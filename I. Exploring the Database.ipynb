{
 "cells": [
  {
   "cell_type": "code",
   "execution_count": 29,
   "metadata": {},
   "outputs": [],
   "source": [
    "import sqlite3\n",
    "import pandas as pd\n",
    "import numpy as np\n",
    "import datetime"
   ]
  },
  {
   "cell_type": "code",
   "execution_count": 16,
   "metadata": {},
   "outputs": [],
   "source": [
    "people_person = pd.read_csv('drive-download-20180422T230536Z-001/people_person.csv')"
   ]
  },
  {
   "cell_type": "code",
   "execution_count": 39,
   "metadata": {},
   "outputs": [],
   "source": [
    "pet_pets = pd.read_csv('drive-download-20180422T230536Z-001/pets_pet.csv')"
   ]
  },
  {
   "cell_type": "code",
   "execution_count": 17,
   "metadata": {
    "scrolled": true
   },
   "outputs": [
    {
     "data": {
      "text/html": [
       "<div>\n",
       "<table border=\"1\" class=\"dataframe\">\n",
       "  <thead>\n",
       "    <tr style=\"text-align: right;\">\n",
       "      <th></th>\n",
       "      <th>id</th>\n",
       "      <th>first_name</th>\n",
       "      <th>last_name</th>\n",
       "      <th>email</th>\n",
       "      <th>channel</th>\n",
       "      <th>date_joined</th>\n",
       "      <th>photo</th>\n",
       "      <th>fee</th>\n",
       "      <th>gender</th>\n",
       "    </tr>\n",
       "  </thead>\n",
       "  <tbody>\n",
       "    <tr>\n",
       "      <th>0</th>\n",
       "      <td>1</td>\n",
       "      <td>Meaghan</td>\n",
       "      <td>Lapete</td>\n",
       "      <td>meaghan.lapete820@aol.com</td>\n",
       "      <td>NaN</td>\n",
       "      <td>2015-07-12 15:13:16.673652</td>\n",
       "      <td>https://placekitten.com/360/208</td>\n",
       "      <td>0.0</td>\n",
       "      <td>f</td>\n",
       "    </tr>\n",
       "    <tr>\n",
       "      <th>1</th>\n",
       "      <td>2</td>\n",
       "      <td>Aracelis</td>\n",
       "      <td>Luhr</td>\n",
       "      <td>aracelis.luhr844@rover.com</td>\n",
       "      <td>NaN</td>\n",
       "      <td>2015-07-12 13:44:21.949482</td>\n",
       "      <td>https://placekitten.com/392/227</td>\n",
       "      <td>0.0</td>\n",
       "      <td>f</td>\n",
       "    </tr>\n",
       "    <tr>\n",
       "      <th>2</th>\n",
       "      <td>3</td>\n",
       "      <td>Vernita</td>\n",
       "      <td>Amodei</td>\n",
       "      <td>vernita.amodei542@rover.com</td>\n",
       "      <td>NaN</td>\n",
       "      <td>2015-07-12 11:36:06.992714</td>\n",
       "      <td>https://placekitten.com/275/300</td>\n",
       "      <td>0.0</td>\n",
       "      <td>f</td>\n",
       "    </tr>\n",
       "  </tbody>\n",
       "</table>\n",
       "</div>"
      ],
      "text/plain": [
       "   id first_name last_name                        email channel  \\\n",
       "0   1    Meaghan    Lapete    meaghan.lapete820@aol.com     NaN   \n",
       "1   2   Aracelis      Luhr   aracelis.luhr844@rover.com     NaN   \n",
       "2   3    Vernita    Amodei  vernita.amodei542@rover.com     NaN   \n",
       "\n",
       "                  date_joined                            photo  fee gender  \n",
       "0  2015-07-12 15:13:16.673652  https://placekitten.com/360/208  0.0      f  \n",
       "1  2015-07-12 13:44:21.949482  https://placekitten.com/392/227  0.0      f  \n",
       "2  2015-07-12 11:36:06.992714  https://placekitten.com/275/300  0.0      f  "
      ]
     },
     "execution_count": 17,
     "metadata": {},
     "output_type": "execute_result"
    }
   ],
   "source": [
    "people_person.head(3)"
   ]
  },
  {
   "cell_type": "code",
   "execution_count": 19,
   "metadata": {
    "scrolled": true
   },
   "outputs": [
    {
     "data": {
      "text/plain": [
       "id               int64\n",
       "first_name      object\n",
       "last_name       object\n",
       "email           object\n",
       "channel         object\n",
       "date_joined     object\n",
       "photo           object\n",
       "fee            float64\n",
       "gender          object\n",
       "dtype: object"
      ]
     },
     "execution_count": 19,
     "metadata": {},
     "output_type": "execute_result"
    }
   ],
   "source": [
    "people_person.dtypes"
   ]
  },
  {
   "cell_type": "code",
   "execution_count": 20,
   "metadata": {},
   "outputs": [],
   "source": [
    "#converting the date joined column to a datetime object and not a string \n",
    "people_person['date_joined'] = pd.to_datetime(people_person['date_joined'])"
   ]
  },
  {
   "cell_type": "markdown",
   "metadata": {},
   "source": [
    "# 1. How many users have signed up?"
   ]
  },
  {
   "cell_type": "code",
   "execution_count": 58,
   "metadata": {},
   "outputs": [
    {
     "data": {
      "text/plain": [
       "(64416, 10)"
      ]
     },
     "execution_count": 58,
     "metadata": {},
     "output_type": "execute_result"
    }
   ],
   "source": [
    "people_person.shape"
   ]
  },
  {
   "cell_type": "markdown",
   "metadata": {},
   "source": [
    "### This specific platform has 64,416 users."
   ]
  },
  {
   "cell_type": "markdown",
   "metadata": {},
   "source": [
    "# 2. How many users signed up prior to 2017-01-12?"
   ]
  },
  {
   "cell_type": "code",
   "execution_count": 59,
   "metadata": {},
   "outputs": [],
   "source": [
    "#Create a specific date column, we dont necesarily care about the timestamp.\n",
    "people_person['date'] = people_person['date_joined'].dt.date"
   ]
  },
  {
   "cell_type": "code",
   "execution_count": 60,
   "metadata": {},
   "outputs": [
    {
     "data": {
      "text/html": [
       "<div>\n",
       "<table border=\"1\" class=\"dataframe\">\n",
       "  <thead>\n",
       "    <tr style=\"text-align: right;\">\n",
       "      <th></th>\n",
       "      <th>id</th>\n",
       "      <th>first_name</th>\n",
       "      <th>last_name</th>\n",
       "      <th>email</th>\n",
       "      <th>channel</th>\n",
       "      <th>date_joined</th>\n",
       "      <th>photo</th>\n",
       "      <th>fee</th>\n",
       "      <th>gender</th>\n",
       "      <th>date</th>\n",
       "    </tr>\n",
       "  </thead>\n",
       "  <tbody>\n",
       "    <tr>\n",
       "      <th>0</th>\n",
       "      <td>1</td>\n",
       "      <td>Meaghan</td>\n",
       "      <td>Lapete</td>\n",
       "      <td>meaghan.lapete820@aol.com</td>\n",
       "      <td>NaN</td>\n",
       "      <td>2015-07-12 15:13:16.673652</td>\n",
       "      <td>https://placekitten.com/360/208</td>\n",
       "      <td>0.0</td>\n",
       "      <td>f</td>\n",
       "      <td>2015-07-12</td>\n",
       "    </tr>\n",
       "    <tr>\n",
       "      <th>1</th>\n",
       "      <td>2</td>\n",
       "      <td>Aracelis</td>\n",
       "      <td>Luhr</td>\n",
       "      <td>aracelis.luhr844@rover.com</td>\n",
       "      <td>NaN</td>\n",
       "      <td>2015-07-12 13:44:21.949482</td>\n",
       "      <td>https://placekitten.com/392/227</td>\n",
       "      <td>0.0</td>\n",
       "      <td>f</td>\n",
       "      <td>2015-07-12</td>\n",
       "    </tr>\n",
       "  </tbody>\n",
       "</table>\n",
       "</div>"
      ],
      "text/plain": [
       "   id first_name last_name                       email channel  \\\n",
       "0   1    Meaghan    Lapete   meaghan.lapete820@aol.com     NaN   \n",
       "1   2   Aracelis      Luhr  aracelis.luhr844@rover.com     NaN   \n",
       "\n",
       "                 date_joined                            photo  fee gender  \\\n",
       "0 2015-07-12 15:13:16.673652  https://placekitten.com/360/208  0.0      f   \n",
       "1 2015-07-12 13:44:21.949482  https://placekitten.com/392/227  0.0      f   \n",
       "\n",
       "         date  \n",
       "0  2015-07-12  \n",
       "1  2015-07-12  "
      ]
     },
     "execution_count": 60,
     "metadata": {},
     "output_type": "execute_result"
    }
   ],
   "source": [
    "#Spot check to make sure we isolated the date.\n",
    "people_person.head(2)"
   ]
  },
  {
   "cell_type": "code",
   "execution_count": 61,
   "metadata": {},
   "outputs": [
    {
     "data": {
      "text/html": [
       "<div>\n",
       "<table border=\"1\" class=\"dataframe\">\n",
       "  <thead>\n",
       "    <tr style=\"text-align: right;\">\n",
       "      <th></th>\n",
       "      <th>id</th>\n",
       "      <th>first_name</th>\n",
       "      <th>last_name</th>\n",
       "      <th>email</th>\n",
       "      <th>channel</th>\n",
       "      <th>date_joined</th>\n",
       "      <th>photo</th>\n",
       "      <th>fee</th>\n",
       "      <th>gender</th>\n",
       "      <th>date</th>\n",
       "    </tr>\n",
       "  </thead>\n",
       "  <tbody>\n",
       "    <tr>\n",
       "      <th>0</th>\n",
       "      <td>1</td>\n",
       "      <td>Meaghan</td>\n",
       "      <td>Lapete</td>\n",
       "      <td>meaghan.lapete820@aol.com</td>\n",
       "      <td>NaN</td>\n",
       "      <td>2015-07-12 15:13:16.673652</td>\n",
       "      <td>https://placekitten.com/360/208</td>\n",
       "      <td>0.0</td>\n",
       "      <td>f</td>\n",
       "      <td>2015-07-12</td>\n",
       "    </tr>\n",
       "    <tr>\n",
       "      <th>72</th>\n",
       "      <td>73</td>\n",
       "      <td>Napoleon</td>\n",
       "      <td>Quaresma</td>\n",
       "      <td>napoleon.quaresma561@gmail.com</td>\n",
       "      <td>NaN</td>\n",
       "      <td>2015-07-12 14:07:05.476956</td>\n",
       "      <td>https://placekitten.com/223/294</td>\n",
       "      <td>0.0</td>\n",
       "      <td>m</td>\n",
       "      <td>2015-07-12</td>\n",
       "    </tr>\n",
       "  </tbody>\n",
       "</table>\n",
       "</div>"
      ],
      "text/plain": [
       "    id first_name last_name                           email channel  \\\n",
       "0    1    Meaghan    Lapete       meaghan.lapete820@aol.com     NaN   \n",
       "72  73   Napoleon  Quaresma  napoleon.quaresma561@gmail.com     NaN   \n",
       "\n",
       "                  date_joined                            photo  fee gender  \\\n",
       "0  2015-07-12 15:13:16.673652  https://placekitten.com/360/208  0.0      f   \n",
       "72 2015-07-12 14:07:05.476956  https://placekitten.com/223/294  0.0      m   \n",
       "\n",
       "          date  \n",
       "0   2015-07-12  \n",
       "72  2015-07-12  "
      ]
     },
     "execution_count": 61,
     "metadata": {},
     "output_type": "execute_result"
    }
   ],
   "source": [
    "#Next step is to sort by the date signed up.\n",
    "people_person.sort_values(by='date').head(2)"
   ]
  },
  {
   "cell_type": "code",
   "execution_count": 62,
   "metadata": {},
   "outputs": [
    {
     "data": {
      "text/plain": [
       "(35500, 10)"
      ]
     },
     "execution_count": 62,
     "metadata": {},
     "output_type": "execute_result"
    }
   ],
   "source": [
    "#Need users prior to 2017-01-12\n",
    "\n",
    "early_birds = people_person[(people_person['date'] < datetime.date(2017,1,12))]\n",
    "early_birds.shape"
   ]
  },
  {
   "cell_type": "markdown",
   "metadata": {},
   "source": [
    "### 35,500 signed up prior to 2017-01-12"
   ]
  },
  {
   "cell_type": "markdown",
   "metadata": {},
   "source": [
    "# 3. What percentage of users have added pets?\n"
   ]
  },
  {
   "cell_type": "code",
   "execution_count": 63,
   "metadata": {},
   "outputs": [],
   "source": [
    "#Looks like we are going to have to create a dataframe off of people_person and pets_pet, user_id is going to be the primary key."
   ]
  },
  {
   "cell_type": "code",
   "execution_count": 48,
   "metadata": {},
   "outputs": [
    {
     "data": {
      "text/plain": [
       "'\\nSELECT a.id, b.owner_id\\nFROM people_person a\\nJOIN pets_pet b\\nON (a.id = b.owner_id);\\n'"
      ]
     },
     "execution_count": 48,
     "metadata": {},
     "output_type": "execute_result"
    }
   ],
   "source": [
    "# Query was writen in SQLite Studio and exported to csv\n",
    "# This is the query below.\n",
    "'''\n",
    "SELECT a.id, b.owner_id\n",
    "FROM people_person a\n",
    "JOIN pets_pet b\n",
    "ON (a.id = b.owner_id);\n",
    "'''"
   ]
  },
  {
   "cell_type": "code",
   "execution_count": 64,
   "metadata": {},
   "outputs": [
    {
     "data": {
      "text/html": [
       "<div>\n",
       "<table border=\"1\" class=\"dataframe\">\n",
       "  <thead>\n",
       "    <tr style=\"text-align: right;\">\n",
       "      <th></th>\n",
       "      <th>id</th>\n",
       "      <th>owner_id</th>\n",
       "    </tr>\n",
       "  </thead>\n",
       "  <tbody>\n",
       "    <tr>\n",
       "      <th>0</th>\n",
       "      <td>12601</td>\n",
       "      <td>12601</td>\n",
       "    </tr>\n",
       "    <tr>\n",
       "      <th>1</th>\n",
       "      <td>12601</td>\n",
       "      <td>12601</td>\n",
       "    </tr>\n",
       "    <tr>\n",
       "      <th>2</th>\n",
       "      <td>12602</td>\n",
       "      <td>12602</td>\n",
       "    </tr>\n",
       "    <tr>\n",
       "      <th>3</th>\n",
       "      <td>12602</td>\n",
       "      <td>12602</td>\n",
       "    </tr>\n",
       "    <tr>\n",
       "      <th>4</th>\n",
       "      <td>12603</td>\n",
       "      <td>12603</td>\n",
       "    </tr>\n",
       "    <tr>\n",
       "      <th>5</th>\n",
       "      <td>12603</td>\n",
       "      <td>12603</td>\n",
       "    </tr>\n",
       "  </tbody>\n",
       "</table>\n",
       "</div>"
      ],
      "text/plain": [
       "      id  owner_id\n",
       "0  12601     12601\n",
       "1  12601     12601\n",
       "2  12602     12602\n",
       "3  12602     12602\n",
       "4  12603     12603\n",
       "5  12603     12603"
      ]
     },
     "execution_count": 64,
     "metadata": {},
     "output_type": "execute_result"
    }
   ],
   "source": [
    "pet_owners = pd.read_csv('pet_owners.csv')\n",
    "pet_owners.head(6)"
   ]
  },
  {
   "cell_type": "code",
   "execution_count": 65,
   "metadata": {},
   "outputs": [
    {
     "data": {
      "text/plain": [
       "(77512, 2)"
      ]
     },
     "execution_count": 65,
     "metadata": {},
     "output_type": "execute_result"
    }
   ],
   "source": [
    "pet_owners.shape"
   ]
  },
  {
   "cell_type": "code",
   "execution_count": 66,
   "metadata": {},
   "outputs": [
    {
     "data": {
      "text/plain": [
       "51816"
      ]
     },
     "execution_count": 66,
     "metadata": {},
     "output_type": "execute_result"
    }
   ],
   "source": [
    "# The unique owners are in the id column, owner_id refers to the pets.\n",
    "# By counting the unique ids we can arrive at the number of pet owners\n",
    "num_pet_owners = len(pet_owners.id.unique())\n",
    "num_pet_owners"
   ]
  },
  {
   "cell_type": "code",
   "execution_count": 67,
   "metadata": {},
   "outputs": [
    {
     "data": {
      "text/plain": [
       "64416"
      ]
     },
     "execution_count": 67,
     "metadata": {},
     "output_type": "execute_result"
    }
   ],
   "source": [
    "# count of users is the number of rows in the people_persons dataframe\n",
    "users = people_person.shape[0]\n",
    "users"
   ]
  },
  {
   "cell_type": "code",
   "execution_count": 68,
   "metadata": {},
   "outputs": [
    {
     "data": {
      "text/plain": [
       "80.43964232488823"
      ]
     },
     "execution_count": 68,
     "metadata": {},
     "output_type": "execute_result"
    }
   ],
   "source": [
    "#\n",
    "percentage = (num_pet_owners / users) * 100\n",
    "percentage"
   ]
  },
  {
   "cell_type": "markdown",
   "metadata": {},
   "source": [
    "# 4. Of those users, how many pets have they added on average?"
   ]
  },
  {
   "cell_type": "code",
   "execution_count": 70,
   "metadata": {},
   "outputs": [
    {
     "data": {
      "text/html": [
       "<div>\n",
       "<table border=\"1\" class=\"dataframe\">\n",
       "  <thead>\n",
       "    <tr style=\"text-align: right;\">\n",
       "      <th></th>\n",
       "      <th>id</th>\n",
       "      <th>name</th>\n",
       "      <th>description</th>\n",
       "      <th>gender</th>\n",
       "      <th>weight</th>\n",
       "      <th>birthday</th>\n",
       "      <th>plays_cats</th>\n",
       "      <th>plays_children</th>\n",
       "      <th>plays_dogs</th>\n",
       "      <th>spayed_neutered</th>\n",
       "      <th>house_trained</th>\n",
       "      <th>size</th>\n",
       "      <th>owner_id</th>\n",
       "    </tr>\n",
       "  </thead>\n",
       "  <tbody>\n",
       "    <tr>\n",
       "      <th>0</th>\n",
       "      <td>219067</td>\n",
       "      <td>Dorla</td>\n",
       "      <td>Etiam risus.</td>\n",
       "      <td>f</td>\n",
       "      <td>77</td>\n",
       "      <td>2015-04-20</td>\n",
       "      <td>0</td>\n",
       "      <td>1</td>\n",
       "      <td>1</td>\n",
       "      <td>1</td>\n",
       "      <td>1</td>\n",
       "      <td>large</td>\n",
       "      <td>12601</td>\n",
       "    </tr>\n",
       "    <tr>\n",
       "      <th>1</th>\n",
       "      <td>219068</td>\n",
       "      <td>Magan</td>\n",
       "      <td>Massa ipsum felis.</td>\n",
       "      <td>f</td>\n",
       "      <td>85</td>\n",
       "      <td>2016-01-03</td>\n",
       "      <td>0</td>\n",
       "      <td>0</td>\n",
       "      <td>1</td>\n",
       "      <td>0</td>\n",
       "      <td>1</td>\n",
       "      <td>large</td>\n",
       "      <td>12601</td>\n",
       "    </tr>\n",
       "  </tbody>\n",
       "</table>\n",
       "</div>"
      ],
      "text/plain": [
       "       id   name         description gender  weight    birthday  plays_cats  \\\n",
       "0  219067  Dorla        Etiam risus.      f      77  2015-04-20           0   \n",
       "1  219068  Magan  Massa ipsum felis.      f      85  2016-01-03           0   \n",
       "\n",
       "   plays_children  plays_dogs  spayed_neutered  house_trained   size  owner_id  \n",
       "0               1           1                1              1  large     12601  \n",
       "1               0           1                0              1  large     12601  "
      ]
     },
     "execution_count": 70,
     "metadata": {},
     "output_type": "execute_result"
    }
   ],
   "source": [
    "# First we need to find the unique number of pets in pets dataframe.\n",
    "pet_pets.head(2)"
   ]
  },
  {
   "cell_type": "code",
   "execution_count": 72,
   "metadata": {},
   "outputs": [
    {
     "data": {
      "text/plain": [
       "77512"
      ]
     },
     "execution_count": 72,
     "metadata": {},
     "output_type": "execute_result"
    }
   ],
   "source": [
    "count_pets = len(pet_pets.id)\n",
    "count_pets"
   ]
  },
  {
   "cell_type": "code",
   "execution_count": 73,
   "metadata": {},
   "outputs": [
    {
     "data": {
      "text/plain": [
       "51816"
      ]
     },
     "execution_count": 73,
     "metadata": {},
     "output_type": "execute_result"
    }
   ],
   "source": [
    "#We also know the amount of pet owners\n",
    "num_pet_owners"
   ]
  },
  {
   "cell_type": "code",
   "execution_count": 75,
   "metadata": {},
   "outputs": [
    {
     "data": {
      "text/plain": [
       "(77512, 51816)"
      ]
     },
     "execution_count": 75,
     "metadata": {},
     "output_type": "execute_result"
    }
   ],
   "source": [
    "count_pets, num_pet_owners"
   ]
  },
  {
   "cell_type": "code",
   "execution_count": 76,
   "metadata": {},
   "outputs": [
    {
     "data": {
      "text/plain": [
       "1.4959085996603365"
      ]
     },
     "execution_count": 76,
     "metadata": {},
     "output_type": "execute_result"
    }
   ],
   "source": [
    "pets_per_owner = (count_pets / num_pet_owners)\n",
    "pets_per_owner"
   ]
  },
  {
   "cell_type": "markdown",
   "metadata": {},
   "source": [
    "# 5. What percentage of pets play well with cats?"
   ]
  },
  {
   "cell_type": "code",
   "execution_count": 77,
   "metadata": {},
   "outputs": [],
   "source": [
    "# We know from the pet_pets dataframe whether or not a pet gets along with cats."
   ]
  },
  {
   "cell_type": "code",
   "execution_count": 78,
   "metadata": {},
   "outputs": [
    {
     "data": {
      "text/html": [
       "<div>\n",
       "<table border=\"1\" class=\"dataframe\">\n",
       "  <thead>\n",
       "    <tr style=\"text-align: right;\">\n",
       "      <th></th>\n",
       "      <th>id</th>\n",
       "      <th>name</th>\n",
       "      <th>description</th>\n",
       "      <th>gender</th>\n",
       "      <th>weight</th>\n",
       "      <th>birthday</th>\n",
       "      <th>plays_cats</th>\n",
       "      <th>plays_children</th>\n",
       "      <th>plays_dogs</th>\n",
       "      <th>spayed_neutered</th>\n",
       "      <th>house_trained</th>\n",
       "      <th>size</th>\n",
       "      <th>owner_id</th>\n",
       "    </tr>\n",
       "  </thead>\n",
       "  <tbody>\n",
       "    <tr>\n",
       "      <th>0</th>\n",
       "      <td>219067</td>\n",
       "      <td>Dorla</td>\n",
       "      <td>Etiam risus.</td>\n",
       "      <td>f</td>\n",
       "      <td>77</td>\n",
       "      <td>2015-04-20</td>\n",
       "      <td>0</td>\n",
       "      <td>1</td>\n",
       "      <td>1</td>\n",
       "      <td>1</td>\n",
       "      <td>1</td>\n",
       "      <td>large</td>\n",
       "      <td>12601</td>\n",
       "    </tr>\n",
       "    <tr>\n",
       "      <th>1</th>\n",
       "      <td>219068</td>\n",
       "      <td>Magan</td>\n",
       "      <td>Massa ipsum felis.</td>\n",
       "      <td>f</td>\n",
       "      <td>85</td>\n",
       "      <td>2016-01-03</td>\n",
       "      <td>0</td>\n",
       "      <td>0</td>\n",
       "      <td>1</td>\n",
       "      <td>0</td>\n",
       "      <td>1</td>\n",
       "      <td>large</td>\n",
       "      <td>12601</td>\n",
       "    </tr>\n",
       "  </tbody>\n",
       "</table>\n",
       "</div>"
      ],
      "text/plain": [
       "       id   name         description gender  weight    birthday  plays_cats  \\\n",
       "0  219067  Dorla        Etiam risus.      f      77  2015-04-20           0   \n",
       "1  219068  Magan  Massa ipsum felis.      f      85  2016-01-03           0   \n",
       "\n",
       "   plays_children  plays_dogs  spayed_neutered  house_trained   size  owner_id  \n",
       "0               1           1                1              1  large     12601  \n",
       "1               0           1                0              1  large     12601  "
      ]
     },
     "execution_count": 78,
     "metadata": {},
     "output_type": "execute_result"
    }
   ],
   "source": [
    "pet_pets.head(2)"
   ]
  },
  {
   "cell_type": "code",
   "execution_count": 81,
   "metadata": {
    "scrolled": true
   },
   "outputs": [
    {
     "data": {
      "text/plain": [
       "0    58308\n",
       "1    19204\n",
       "Name: plays_cats, dtype: int64"
      ]
     },
     "execution_count": 81,
     "metadata": {},
     "output_type": "execute_result"
    }
   ],
   "source": [
    "pet_pets.plays_cats.value_counts()"
   ]
  },
  {
   "cell_type": "code",
   "execution_count": 83,
   "metadata": {},
   "outputs": [
    {
     "data": {
      "text/plain": [
       "24.775518629373515"
      ]
     },
     "execution_count": 83,
     "metadata": {},
     "output_type": "execute_result"
    }
   ],
   "source": [
    "cat_friendly = (19204 / count_pets) * 100\n",
    "cat_friendly"
   ]
  },
  {
   "cell_type": "code",
   "execution_count": null,
   "metadata": {},
   "outputs": [],
   "source": []
  }
 ],
 "metadata": {
  "kernelspec": {
   "display_name": "Python 3",
   "language": "python",
   "name": "python3"
  },
  "language_info": {
   "codemirror_mode": {
    "name": "ipython",
    "version": 3
   },
   "file_extension": ".py",
   "mimetype": "text/x-python",
   "name": "python",
   "nbconvert_exporter": "python",
   "pygments_lexer": "ipython3",
   "version": "3.6.3"
  }
 },
 "nbformat": 4,
 "nbformat_minor": 2
}
