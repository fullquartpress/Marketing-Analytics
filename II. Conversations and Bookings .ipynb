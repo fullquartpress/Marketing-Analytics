{
 "cells": [
  {
   "cell_type": "code",
   "execution_count": 3,
   "metadata": {
    "collapsed": true
   },
   "outputs": [],
   "source": [
    "import pandas as pd\n",
    "import numpy as np\n",
    "import sqlite3\n",
    "import matplotlib.pyplot as plt\n",
    "% matplotlib inline\n"
   ]
  },
  {
   "cell_type": "code",
   "execution_count": 4,
   "metadata": {},
   "outputs": [
    {
     "data": {
      "text/html": [
       "<div>\n",
       "<style>\n",
       "    .dataframe thead tr:only-child th {\n",
       "        text-align: right;\n",
       "    }\n",
       "\n",
       "    .dataframe thead th {\n",
       "        text-align: left;\n",
       "    }\n",
       "\n",
       "    .dataframe tbody tr th {\n",
       "        vertical-align: top;\n",
       "    }\n",
       "</style>\n",
       "<table border=\"1\" class=\"dataframe\">\n",
       "  <thead>\n",
       "    <tr style=\"text-align: right;\">\n",
       "      <th></th>\n",
       "      <th>id</th>\n",
       "      <th>service_type</th>\n",
       "      <th>cancellation_policy</th>\n",
       "      <th>can_provide_oral_medication</th>\n",
       "      <th>can_provide_injected_medication</th>\n",
       "      <th>senior_dog_experience</th>\n",
       "      <th>special_needs_experience</th>\n",
       "      <th>takes_small_dogs</th>\n",
       "      <th>takes_medium_dogs</th>\n",
       "      <th>takes_large_dogs</th>\n",
       "      <th>takes_puppies</th>\n",
       "      <th>max_dogs</th>\n",
       "      <th>provider_id</th>\n",
       "      <th>fee</th>\n",
       "      <th>price</th>\n",
       "      <th>added</th>\n",
       "    </tr>\n",
       "  </thead>\n",
       "  <tbody>\n",
       "    <tr>\n",
       "      <th>0</th>\n",
       "      <td>77127</td>\n",
       "      <td>boarding</td>\n",
       "      <td>strict</td>\n",
       "      <td>1</td>\n",
       "      <td>0</td>\n",
       "      <td>1</td>\n",
       "      <td>1</td>\n",
       "      <td>0</td>\n",
       "      <td>1</td>\n",
       "      <td>0</td>\n",
       "      <td>0</td>\n",
       "      <td>2</td>\n",
       "      <td>1</td>\n",
       "      <td>0.15</td>\n",
       "      <td>35</td>\n",
       "      <td>2015-07-12 15:13:16.673652</td>\n",
       "    </tr>\n",
       "    <tr>\n",
       "      <th>1</th>\n",
       "      <td>77128</td>\n",
       "      <td>boarding</td>\n",
       "      <td>strict</td>\n",
       "      <td>1</td>\n",
       "      <td>0</td>\n",
       "      <td>1</td>\n",
       "      <td>0</td>\n",
       "      <td>1</td>\n",
       "      <td>0</td>\n",
       "      <td>0</td>\n",
       "      <td>1</td>\n",
       "      <td>2</td>\n",
       "      <td>2</td>\n",
       "      <td>0.15</td>\n",
       "      <td>35</td>\n",
       "      <td>2015-07-12 13:44:21.949482</td>\n",
       "    </tr>\n",
       "    <tr>\n",
       "      <th>2</th>\n",
       "      <td>77129</td>\n",
       "      <td>dog-walking</td>\n",
       "      <td>flexible</td>\n",
       "      <td>1</td>\n",
       "      <td>0</td>\n",
       "      <td>1</td>\n",
       "      <td>0</td>\n",
       "      <td>1</td>\n",
       "      <td>1</td>\n",
       "      <td>0</td>\n",
       "      <td>1</td>\n",
       "      <td>6</td>\n",
       "      <td>3</td>\n",
       "      <td>0.15</td>\n",
       "      <td>24</td>\n",
       "      <td>2015-07-12 11:36:06.992714</td>\n",
       "    </tr>\n",
       "    <tr>\n",
       "      <th>3</th>\n",
       "      <td>77130</td>\n",
       "      <td>dog-walking</td>\n",
       "      <td>flexible</td>\n",
       "      <td>0</td>\n",
       "      <td>0</td>\n",
       "      <td>1</td>\n",
       "      <td>0</td>\n",
       "      <td>1</td>\n",
       "      <td>1</td>\n",
       "      <td>1</td>\n",
       "      <td>1</td>\n",
       "      <td>3</td>\n",
       "      <td>4</td>\n",
       "      <td>0.15</td>\n",
       "      <td>24</td>\n",
       "      <td>2015-07-12 12:23:43.627071</td>\n",
       "    </tr>\n",
       "    <tr>\n",
       "      <th>4</th>\n",
       "      <td>77131</td>\n",
       "      <td>boarding</td>\n",
       "      <td>strict</td>\n",
       "      <td>1</td>\n",
       "      <td>0</td>\n",
       "      <td>1</td>\n",
       "      <td>1</td>\n",
       "      <td>1</td>\n",
       "      <td>1</td>\n",
       "      <td>1</td>\n",
       "      <td>1</td>\n",
       "      <td>5</td>\n",
       "      <td>5</td>\n",
       "      <td>0.15</td>\n",
       "      <td>34</td>\n",
       "      <td>2015-07-12 07:40:36.724086</td>\n",
       "    </tr>\n",
       "  </tbody>\n",
       "</table>\n",
       "</div>"
      ],
      "text/plain": [
       "      id service_type cancellation_policy  can_provide_oral_medication  \\\n",
       "0  77127     boarding              strict                            1   \n",
       "1  77128     boarding              strict                            1   \n",
       "2  77129  dog-walking            flexible                            1   \n",
       "3  77130  dog-walking            flexible                            0   \n",
       "4  77131     boarding              strict                            1   \n",
       "\n",
       "   can_provide_injected_medication  senior_dog_experience  \\\n",
       "0                                0                      1   \n",
       "1                                0                      1   \n",
       "2                                0                      1   \n",
       "3                                0                      1   \n",
       "4                                0                      1   \n",
       "\n",
       "   special_needs_experience  takes_small_dogs  takes_medium_dogs  \\\n",
       "0                         1                 0                  1   \n",
       "1                         0                 1                  0   \n",
       "2                         0                 1                  1   \n",
       "3                         0                 1                  1   \n",
       "4                         1                 1                  1   \n",
       "\n",
       "   takes_large_dogs  takes_puppies  max_dogs  provider_id   fee  price  \\\n",
       "0                 0              0         2            1  0.15     35   \n",
       "1                 0              1         2            2  0.15     35   \n",
       "2                 0              1         6            3  0.15     24   \n",
       "3                 1              1         3            4  0.15     24   \n",
       "4                 1              1         5            5  0.15     34   \n",
       "\n",
       "                        added  \n",
       "0  2015-07-12 15:13:16.673652  \n",
       "1  2015-07-12 13:44:21.949482  \n",
       "2  2015-07-12 11:36:06.992714  \n",
       "3  2015-07-12 12:23:43.627071  \n",
       "4  2015-07-12 07:40:36.724086  "
      ]
     },
     "execution_count": 4,
     "metadata": {},
     "output_type": "execute_result"
    }
   ],
   "source": [
    "services = pd.read_csv('drive-download-20180422T230536Z-001/services_service.csv')\n",
    "services.head()"
   ]
  },
  {
   "cell_type": "code",
   "execution_count": 5,
   "metadata": {},
   "outputs": [
    {
     "data": {
      "text/plain": [
       "(21584, 16)"
      ]
     },
     "execution_count": 5,
     "metadata": {},
     "output_type": "execute_result"
    }
   ],
   "source": [
    "services.shape"
   ]
  },
  {
   "cell_type": "code",
   "execution_count": 6,
   "metadata": {},
   "outputs": [
    {
     "data": {
      "text/html": [
       "<div>\n",
       "<style>\n",
       "    .dataframe thead tr:only-child th {\n",
       "        text-align: right;\n",
       "    }\n",
       "\n",
       "    .dataframe thead th {\n",
       "        text-align: left;\n",
       "    }\n",
       "\n",
       "    .dataframe tbody tr th {\n",
       "        vertical-align: top;\n",
       "    }\n",
       "</style>\n",
       "<table border=\"1\" class=\"dataframe\">\n",
       "  <thead>\n",
       "    <tr style=\"text-align: right;\">\n",
       "      <th></th>\n",
       "      <th>id</th>\n",
       "      <th>start_date</th>\n",
       "      <th>end_date</th>\n",
       "      <th>units</th>\n",
       "      <th>added</th>\n",
       "      <th>booking_total</th>\n",
       "      <th>cancellation_fault</th>\n",
       "      <th>requester_id</th>\n",
       "      <th>service_id</th>\n",
       "      <th>booked_at</th>\n",
       "      <th>cancelled_at</th>\n",
       "    </tr>\n",
       "  </thead>\n",
       "  <tbody>\n",
       "    <tr>\n",
       "      <th>0</th>\n",
       "      <td>208294</td>\n",
       "      <td>2017-06-06</td>\n",
       "      <td>2017-06-09</td>\n",
       "      <td>3</td>\n",
       "      <td>2017-05-25 17:06:35.796792</td>\n",
       "      <td>102</td>\n",
       "      <td>NaN</td>\n",
       "      <td>64416</td>\n",
       "      <td>81642</td>\n",
       "      <td>2017-05-26 21:02:09.499404</td>\n",
       "      <td>NaN</td>\n",
       "    </tr>\n",
       "    <tr>\n",
       "      <th>1</th>\n",
       "      <td>208295</td>\n",
       "      <td>2017-07-16</td>\n",
       "      <td>2017-07-25</td>\n",
       "      <td>9</td>\n",
       "      <td>2017-07-07 06:07:08.053227</td>\n",
       "      <td>324</td>\n",
       "      <td>NaN</td>\n",
       "      <td>64415</td>\n",
       "      <td>79559</td>\n",
       "      <td>NaN</td>\n",
       "      <td>NaN</td>\n",
       "    </tr>\n",
       "    <tr>\n",
       "      <th>2</th>\n",
       "      <td>208296</td>\n",
       "      <td>2017-06-06</td>\n",
       "      <td>2017-06-12</td>\n",
       "      <td>6</td>\n",
       "      <td>2017-05-26 17:47:38.312937</td>\n",
       "      <td>102</td>\n",
       "      <td>NaN</td>\n",
       "      <td>64414</td>\n",
       "      <td>91348</td>\n",
       "      <td>2017-05-29 01:27:14.256611</td>\n",
       "      <td>NaN</td>\n",
       "    </tr>\n",
       "    <tr>\n",
       "      <th>3</th>\n",
       "      <td>208297</td>\n",
       "      <td>2017-06-20</td>\n",
       "      <td>2017-06-25</td>\n",
       "      <td>5</td>\n",
       "      <td>2017-06-10 10:13:55.357196</td>\n",
       "      <td>420</td>\n",
       "      <td>provider</td>\n",
       "      <td>64413</td>\n",
       "      <td>87158</td>\n",
       "      <td>2017-06-15 15:00:33.124108</td>\n",
       "      <td>2017-06-18 00:06:25.278723</td>\n",
       "    </tr>\n",
       "    <tr>\n",
       "      <th>4</th>\n",
       "      <td>208298</td>\n",
       "      <td>2017-05-25</td>\n",
       "      <td>2017-05-28</td>\n",
       "      <td>3</td>\n",
       "      <td>2017-05-15 10:00:03.702143</td>\n",
       "      <td>66</td>\n",
       "      <td>NaN</td>\n",
       "      <td>64411</td>\n",
       "      <td>82832</td>\n",
       "      <td>2017-05-16 00:40:10.332902</td>\n",
       "      <td>NaN</td>\n",
       "    </tr>\n",
       "  </tbody>\n",
       "</table>\n",
       "</div>"
      ],
      "text/plain": [
       "       id  start_date    end_date  units                       added  \\\n",
       "0  208294  2017-06-06  2017-06-09      3  2017-05-25 17:06:35.796792   \n",
       "1  208295  2017-07-16  2017-07-25      9  2017-07-07 06:07:08.053227   \n",
       "2  208296  2017-06-06  2017-06-12      6  2017-05-26 17:47:38.312937   \n",
       "3  208297  2017-06-20  2017-06-25      5  2017-06-10 10:13:55.357196   \n",
       "4  208298  2017-05-25  2017-05-28      3  2017-05-15 10:00:03.702143   \n",
       "\n",
       "   booking_total cancellation_fault  requester_id  service_id  \\\n",
       "0            102                NaN         64416       81642   \n",
       "1            324                NaN         64415       79559   \n",
       "2            102                NaN         64414       91348   \n",
       "3            420           provider         64413       87158   \n",
       "4             66                NaN         64411       82832   \n",
       "\n",
       "                    booked_at                cancelled_at  \n",
       "0  2017-05-26 21:02:09.499404                         NaN  \n",
       "1                         NaN                         NaN  \n",
       "2  2017-05-29 01:27:14.256611                         NaN  \n",
       "3  2017-06-15 15:00:33.124108  2017-06-18 00:06:25.278723  \n",
       "4  2017-05-16 00:40:10.332902                         NaN  "
      ]
     },
     "execution_count": 6,
     "metadata": {},
     "output_type": "execute_result"
    }
   ],
   "source": [
    "conversations = pd.read_csv('drive-download-20180422T230536Z-001/conversations_conversation.csv')\n",
    "conversations.head()"
   ]
  },
  {
   "cell_type": "code",
   "execution_count": 7,
   "metadata": {},
   "outputs": [
    {
     "data": {
      "text/plain": [
       "(79743, 11)"
      ]
     },
     "execution_count": 7,
     "metadata": {},
     "output_type": "execute_result"
    }
   ],
   "source": [
    "conversations.shape"
   ]
  },
  {
   "cell_type": "code",
   "execution_count": 8,
   "metadata": {
    "collapsed": true
   },
   "outputs": [],
   "source": [
    "conversation_review = pd.read_csv('drive-download-20180422T230536Z-001/conversations_review.csv')"
   ]
  },
  {
   "cell_type": "code",
   "execution_count": 9,
   "metadata": {},
   "outputs": [
    {
     "data": {
      "text/html": [
       "<div>\n",
       "<style>\n",
       "    .dataframe thead tr:only-child th {\n",
       "        text-align: right;\n",
       "    }\n",
       "\n",
       "    .dataframe thead th {\n",
       "        text-align: left;\n",
       "    }\n",
       "\n",
       "    .dataframe tbody tr th {\n",
       "        vertical-align: top;\n",
       "    }\n",
       "</style>\n",
       "<table border=\"1\" class=\"dataframe\">\n",
       "  <thead>\n",
       "    <tr style=\"text-align: right;\">\n",
       "      <th></th>\n",
       "      <th>id</th>\n",
       "      <th>content</th>\n",
       "      <th>stars</th>\n",
       "      <th>conversation_id</th>\n",
       "      <th>reviewer_id</th>\n",
       "    </tr>\n",
       "  </thead>\n",
       "  <tbody>\n",
       "    <tr>\n",
       "      <th>0</th>\n",
       "      <td>73828</td>\n",
       "      <td>Curae donec quam quisque quam.</td>\n",
       "      <td>4</td>\n",
       "      <td>208294</td>\n",
       "      <td>2617</td>\n",
       "    </tr>\n",
       "    <tr>\n",
       "      <th>1</th>\n",
       "      <td>73829</td>\n",
       "      <td>Risus donec scelerisque ultrices commodo nulla.</td>\n",
       "      <td>5</td>\n",
       "      <td>208296</td>\n",
       "      <td>64414</td>\n",
       "    </tr>\n",
       "    <tr>\n",
       "      <th>2</th>\n",
       "      <td>73830</td>\n",
       "      <td>Morbi etiam neque ornare curae senectus nunc b...</td>\n",
       "      <td>5</td>\n",
       "      <td>208298</td>\n",
       "      <td>3312</td>\n",
       "    </tr>\n",
       "    <tr>\n",
       "      <th>3</th>\n",
       "      <td>73831</td>\n",
       "      <td>Lorem ipsum orci velit varius adipiscing nulla.</td>\n",
       "      <td>5</td>\n",
       "      <td>208299</td>\n",
       "      <td>64410</td>\n",
       "    </tr>\n",
       "    <tr>\n",
       "      <th>4</th>\n",
       "      <td>73832</td>\n",
       "      <td>Morbi magna sed fusce facilisis orci condiment...</td>\n",
       "      <td>5</td>\n",
       "      <td>208302</td>\n",
       "      <td>64407</td>\n",
       "    </tr>\n",
       "  </tbody>\n",
       "</table>\n",
       "</div>"
      ],
      "text/plain": [
       "      id                                            content  stars  \\\n",
       "0  73828                     Curae donec quam quisque quam.      4   \n",
       "1  73829    Risus donec scelerisque ultrices commodo nulla.      5   \n",
       "2  73830  Morbi etiam neque ornare curae senectus nunc b...      5   \n",
       "3  73831    Lorem ipsum orci velit varius adipiscing nulla.      5   \n",
       "4  73832  Morbi magna sed fusce facilisis orci condiment...      5   \n",
       "\n",
       "   conversation_id  reviewer_id  \n",
       "0           208294         2617  \n",
       "1           208296        64414  \n",
       "2           208298         3312  \n",
       "3           208299        64410  \n",
       "4           208302        64407  "
      ]
     },
     "execution_count": 9,
     "metadata": {},
     "output_type": "execute_result"
    }
   ],
   "source": [
    "conversation_review.head()"
   ]
  },
  {
   "cell_type": "markdown",
   "metadata": {},
   "source": [
    "# 1. Possible Services and Average Price"
   ]
  },
  {
   "cell_type": "code",
   "execution_count": 10,
   "metadata": {},
   "outputs": [
    {
     "data": {
      "text/plain": [
       "['boarding', 'dog-walking', 'day-care']"
      ]
     },
     "execution_count": 10,
     "metadata": {},
     "output_type": "execute_result"
    }
   ],
   "source": [
    "types = list(services.service_type.unique())\n",
    "types"
   ]
  },
  {
   "cell_type": "code",
   "execution_count": 11,
   "metadata": {},
   "outputs": [
    {
     "data": {
      "text/plain": [
       "'\\nSELECT DISTINCT(service_type), AVG(price) as average_price\\nFROM services_service\\nGROUP BY service_type;\\n'"
      ]
     },
     "execution_count": 11,
     "metadata": {},
     "output_type": "execute_result"
    }
   ],
   "source": [
    "#SQL Query\n",
    "'''\n",
    "SELECT DISTINCT(service_type), AVG(price) as average_price\n",
    "FROM services_service\n",
    "GROUP BY service_type;\n",
    "'''"
   ]
  },
  {
   "cell_type": "code",
   "execution_count": 14,
   "metadata": {},
   "outputs": [
    {
     "data": {
      "text/html": [
       "<div>\n",
       "<style>\n",
       "    .dataframe thead tr:only-child th {\n",
       "        text-align: right;\n",
       "    }\n",
       "\n",
       "    .dataframe thead th {\n",
       "        text-align: left;\n",
       "    }\n",
       "\n",
       "    .dataframe tbody tr th {\n",
       "        vertical-align: top;\n",
       "    }\n",
       "</style>\n",
       "<table border=\"1\" class=\"dataframe\">\n",
       "  <thead>\n",
       "    <tr style=\"text-align: right;\">\n",
       "      <th></th>\n",
       "      <th>service_type</th>\n",
       "      <th>average_price</th>\n",
       "    </tr>\n",
       "  </thead>\n",
       "  <tbody>\n",
       "    <tr>\n",
       "      <th>0</th>\n",
       "      <td>boarding</td>\n",
       "      <td>34.506077</td>\n",
       "    </tr>\n",
       "    <tr>\n",
       "      <th>1</th>\n",
       "      <td>day-care</td>\n",
       "      <td>27.013689</td>\n",
       "    </tr>\n",
       "    <tr>\n",
       "      <th>2</th>\n",
       "      <td>dog-walking</td>\n",
       "      <td>21.982185</td>\n",
       "    </tr>\n",
       "  </tbody>\n",
       "</table>\n",
       "</div>"
      ],
      "text/plain": [
       "  service_type  average_price\n",
       "0     boarding      34.506077\n",
       "1     day-care      27.013689\n",
       "2  dog-walking      21.982185"
      ]
     },
     "execution_count": 14,
     "metadata": {},
     "output_type": "execute_result"
    }
   ],
   "source": [
    "average_per_service = pd.read_csv('avg_per_service.csv')\n",
    "average_per_service.head()"
   ]
  },
  {
   "cell_type": "code",
   "execution_count": 15,
   "metadata": {
    "collapsed": true
   },
   "outputs": [],
   "source": [
    "# There are 3 different services, booking, day-care, dog-walking.\n",
    "# The average prices are $34.51, $27.01, and $21.98, respectively."
   ]
  },
  {
   "cell_type": "markdown",
   "metadata": {},
   "source": [
    "# 2. Requests per Service and Percentage Booked"
   ]
  },
  {
   "cell_type": "code",
   "execution_count": 16,
   "metadata": {
    "collapsed": true
   },
   "outputs": [],
   "source": [
    "#Going to have to run an SQL query between services_service and conversations_conversation.\n",
    "#Keys are going to be id and service_id, respectively. "
   ]
  },
  {
   "cell_type": "code",
   "execution_count": null,
   "metadata": {
    "collapsed": true
   },
   "outputs": [],
   "source": [
    "#SQL Query\n",
    "'''\n",
    "SELECT DISTINCT service_type, COUNT(requester_id) as num_requests, COUNT(booked_at) as num_booked\n",
    " FROM services_service a\n",
    " JOIN conversations_conversation b\n",
    " ON a.id = b.service_id\n",
    " GROUP BY service_type;\n",
    "'''"
   ]
  },
  {
   "cell_type": "code",
   "execution_count": 17,
   "metadata": {},
   "outputs": [
    {
     "data": {
      "text/html": [
       "<div>\n",
       "<style>\n",
       "    .dataframe thead tr:only-child th {\n",
       "        text-align: right;\n",
       "    }\n",
       "\n",
       "    .dataframe thead th {\n",
       "        text-align: left;\n",
       "    }\n",
       "\n",
       "    .dataframe tbody tr th {\n",
       "        vertical-align: top;\n",
       "    }\n",
       "</style>\n",
       "<table border=\"1\" class=\"dataframe\">\n",
       "  <thead>\n",
       "    <tr style=\"text-align: right;\">\n",
       "      <th></th>\n",
       "      <th>service_type</th>\n",
       "      <th>num_requests</th>\n",
       "      <th>num_booked</th>\n",
       "    </tr>\n",
       "  </thead>\n",
       "  <tbody>\n",
       "    <tr>\n",
       "      <th>0</th>\n",
       "      <td>boarding</td>\n",
       "      <td>26665</td>\n",
       "      <td>10862</td>\n",
       "    </tr>\n",
       "    <tr>\n",
       "      <th>1</th>\n",
       "      <td>day-care</td>\n",
       "      <td>26362</td>\n",
       "      <td>9417</td>\n",
       "    </tr>\n",
       "    <tr>\n",
       "      <th>2</th>\n",
       "      <td>dog-walking</td>\n",
       "      <td>26716</td>\n",
       "      <td>12811</td>\n",
       "    </tr>\n",
       "  </tbody>\n",
       "</table>\n",
       "</div>"
      ],
      "text/plain": [
       "  service_type  num_requests  num_booked\n",
       "0     boarding         26665       10862\n",
       "1     day-care         26362        9417\n",
       "2  dog-walking         26716       12811"
      ]
     },
     "execution_count": 17,
     "metadata": {},
     "output_type": "execute_result"
    }
   ],
   "source": [
    "bookings = pd.read_csv('bookings_per_type.csv')\n",
    "bookings.head()"
   ]
  },
  {
   "cell_type": "code",
   "execution_count": 18,
   "metadata": {},
   "outputs": [
    {
     "data": {
      "text/html": [
       "<div>\n",
       "<style>\n",
       "    .dataframe thead tr:only-child th {\n",
       "        text-align: right;\n",
       "    }\n",
       "\n",
       "    .dataframe thead th {\n",
       "        text-align: left;\n",
       "    }\n",
       "\n",
       "    .dataframe tbody tr th {\n",
       "        vertical-align: top;\n",
       "    }\n",
       "</style>\n",
       "<table border=\"1\" class=\"dataframe\">\n",
       "  <thead>\n",
       "    <tr style=\"text-align: right;\">\n",
       "      <th></th>\n",
       "      <th>service_type</th>\n",
       "      <th>num_requests</th>\n",
       "      <th>num_booked</th>\n",
       "      <th>booking_rate</th>\n",
       "    </tr>\n",
       "  </thead>\n",
       "  <tbody>\n",
       "    <tr>\n",
       "      <th>0</th>\n",
       "      <td>boarding</td>\n",
       "      <td>26665</td>\n",
       "      <td>10862</td>\n",
       "      <td>40.735046</td>\n",
       "    </tr>\n",
       "    <tr>\n",
       "      <th>1</th>\n",
       "      <td>day-care</td>\n",
       "      <td>26362</td>\n",
       "      <td>9417</td>\n",
       "      <td>35.721872</td>\n",
       "    </tr>\n",
       "    <tr>\n",
       "      <th>2</th>\n",
       "      <td>dog-walking</td>\n",
       "      <td>26716</td>\n",
       "      <td>12811</td>\n",
       "      <td>47.952538</td>\n",
       "    </tr>\n",
       "  </tbody>\n",
       "</table>\n",
       "</div>"
      ],
      "text/plain": [
       "  service_type  num_requests  num_booked  booking_rate\n",
       "0     boarding         26665       10862     40.735046\n",
       "1     day-care         26362        9417     35.721872\n",
       "2  dog-walking         26716       12811     47.952538"
      ]
     },
     "execution_count": 18,
     "metadata": {},
     "output_type": "execute_result"
    }
   ],
   "source": [
    "bookings['booking_rate'] = (bookings.num_booked / bookings.num_requests) * 100\n",
    "bookings.head()"
   ]
  },
  {
   "cell_type": "markdown",
   "metadata": {},
   "source": [
    "# 3. What are the cancellation rates for each service?"
   ]
  },
  {
   "cell_type": "code",
   "execution_count": 19,
   "metadata": {
    "collapsed": true
   },
   "outputs": [],
   "source": [
    "#Going to run essentially the same query as above but this time.\n",
    "#However we will look at the cancelled_at column instead. "
   ]
  },
  {
   "cell_type": "code",
   "execution_count": null,
   "metadata": {
    "collapsed": true
   },
   "outputs": [],
   "source": [
    "#SQL Query\n",
    "'''\n",
    "SELECT DISTINCT service_type, COUNT(requester_id) as num_requests, COUNT(booked_at) as num_booked\n",
    " FROM services_service a\n",
    " JOIN conversations_conversation b\n",
    " ON a.id = b.service_id\n",
    " GROUP BY service_type;\n",
    "'''"
   ]
  },
  {
   "cell_type": "code",
   "execution_count": 20,
   "metadata": {},
   "outputs": [
    {
     "data": {
      "text/html": [
       "<div>\n",
       "<style>\n",
       "    .dataframe thead tr:only-child th {\n",
       "        text-align: right;\n",
       "    }\n",
       "\n",
       "    .dataframe thead th {\n",
       "        text-align: left;\n",
       "    }\n",
       "\n",
       "    .dataframe tbody tr th {\n",
       "        vertical-align: top;\n",
       "    }\n",
       "</style>\n",
       "<table border=\"1\" class=\"dataframe\">\n",
       "  <thead>\n",
       "    <tr style=\"text-align: right;\">\n",
       "      <th></th>\n",
       "      <th>service_type</th>\n",
       "      <th>num_requests</th>\n",
       "      <th>num_booked</th>\n",
       "      <th>num_cancelled</th>\n",
       "    </tr>\n",
       "  </thead>\n",
       "  <tbody>\n",
       "    <tr>\n",
       "      <th>0</th>\n",
       "      <td>boarding</td>\n",
       "      <td>26665</td>\n",
       "      <td>10862</td>\n",
       "      <td>1051</td>\n",
       "    </tr>\n",
       "    <tr>\n",
       "      <th>1</th>\n",
       "      <td>day-care</td>\n",
       "      <td>26362</td>\n",
       "      <td>9417</td>\n",
       "      <td>919</td>\n",
       "    </tr>\n",
       "    <tr>\n",
       "      <th>2</th>\n",
       "      <td>dog-walking</td>\n",
       "      <td>26716</td>\n",
       "      <td>12811</td>\n",
       "      <td>1218</td>\n",
       "    </tr>\n",
       "  </tbody>\n",
       "</table>\n",
       "</div>"
      ],
      "text/plain": [
       "  service_type  num_requests  num_booked  num_cancelled\n",
       "0     boarding         26665       10862           1051\n",
       "1     day-care         26362        9417            919\n",
       "2  dog-walking         26716       12811           1218"
      ]
     },
     "execution_count": 20,
     "metadata": {},
     "output_type": "execute_result"
    }
   ],
   "source": [
    "cancellations = pd.read_csv('cancellations_per_type.csv')\n",
    "cancellations.head()"
   ]
  },
  {
   "cell_type": "code",
   "execution_count": 21,
   "metadata": {},
   "outputs": [
    {
     "data": {
      "text/html": [
       "<div>\n",
       "<style>\n",
       "    .dataframe thead tr:only-child th {\n",
       "        text-align: right;\n",
       "    }\n",
       "\n",
       "    .dataframe thead th {\n",
       "        text-align: left;\n",
       "    }\n",
       "\n",
       "    .dataframe tbody tr th {\n",
       "        vertical-align: top;\n",
       "    }\n",
       "</style>\n",
       "<table border=\"1\" class=\"dataframe\">\n",
       "  <thead>\n",
       "    <tr style=\"text-align: right;\">\n",
       "      <th></th>\n",
       "      <th>service_type</th>\n",
       "      <th>num_requests</th>\n",
       "      <th>num_booked</th>\n",
       "      <th>num_cancelled</th>\n",
       "      <th>cancellation_rate</th>\n",
       "    </tr>\n",
       "  </thead>\n",
       "  <tbody>\n",
       "    <tr>\n",
       "      <th>0</th>\n",
       "      <td>boarding</td>\n",
       "      <td>26665</td>\n",
       "      <td>10862</td>\n",
       "      <td>1051</td>\n",
       "      <td>9.675934</td>\n",
       "    </tr>\n",
       "    <tr>\n",
       "      <th>1</th>\n",
       "      <td>day-care</td>\n",
       "      <td>26362</td>\n",
       "      <td>9417</td>\n",
       "      <td>919</td>\n",
       "      <td>9.758947</td>\n",
       "    </tr>\n",
       "    <tr>\n",
       "      <th>2</th>\n",
       "      <td>dog-walking</td>\n",
       "      <td>26716</td>\n",
       "      <td>12811</td>\n",
       "      <td>1218</td>\n",
       "      <td>9.507455</td>\n",
       "    </tr>\n",
       "  </tbody>\n",
       "</table>\n",
       "</div>"
      ],
      "text/plain": [
       "  service_type  num_requests  num_booked  num_cancelled  cancellation_rate\n",
       "0     boarding         26665       10862           1051           9.675934\n",
       "1     day-care         26362        9417            919           9.758947\n",
       "2  dog-walking         26716       12811           1218           9.507455"
      ]
     },
     "execution_count": 21,
     "metadata": {},
     "output_type": "execute_result"
    }
   ],
   "source": [
    "#Can only cancel if you have booked, therefore we need to include booked information.\n",
    "cancellations['cancellation_rate'] = (cancellations.num_cancelled / cancellations.num_booked) * 100\n",
    "cancellations.head()"
   ]
  },
  {
   "cell_type": "code",
   "execution_count": 22,
   "metadata": {
    "collapsed": true
   },
   "outputs": [],
   "source": [
    "#Okay lets add it all together in a table that makes sense and is easy to look at. "
   ]
  },
  {
   "cell_type": "code",
   "execution_count": 23,
   "metadata": {},
   "outputs": [
    {
     "data": {
      "text/html": [
       "<div>\n",
       "<style>\n",
       "    .dataframe thead tr:only-child th {\n",
       "        text-align: right;\n",
       "    }\n",
       "\n",
       "    .dataframe thead th {\n",
       "        text-align: left;\n",
       "    }\n",
       "\n",
       "    .dataframe tbody tr th {\n",
       "        vertical-align: top;\n",
       "    }\n",
       "</style>\n",
       "<table border=\"1\" class=\"dataframe\">\n",
       "  <thead>\n",
       "    <tr style=\"text-align: right;\">\n",
       "      <th></th>\n",
       "      <th>service_type</th>\n",
       "      <th>num_requests</th>\n",
       "      <th>num_booked</th>\n",
       "      <th>num_cancelled</th>\n",
       "      <th>cancellation_rate</th>\n",
       "      <th>booking_rate</th>\n",
       "    </tr>\n",
       "  </thead>\n",
       "  <tbody>\n",
       "    <tr>\n",
       "      <th>0</th>\n",
       "      <td>boarding</td>\n",
       "      <td>26665</td>\n",
       "      <td>10862</td>\n",
       "      <td>1051</td>\n",
       "      <td>9.675934</td>\n",
       "      <td>40.735046</td>\n",
       "    </tr>\n",
       "    <tr>\n",
       "      <th>1</th>\n",
       "      <td>day-care</td>\n",
       "      <td>26362</td>\n",
       "      <td>9417</td>\n",
       "      <td>919</td>\n",
       "      <td>9.758947</td>\n",
       "      <td>35.721872</td>\n",
       "    </tr>\n",
       "    <tr>\n",
       "      <th>2</th>\n",
       "      <td>dog-walking</td>\n",
       "      <td>26716</td>\n",
       "      <td>12811</td>\n",
       "      <td>1218</td>\n",
       "      <td>9.507455</td>\n",
       "      <td>47.952538</td>\n",
       "    </tr>\n",
       "  </tbody>\n",
       "</table>\n",
       "</div>"
      ],
      "text/plain": [
       "  service_type  num_requests  num_booked  num_cancelled  cancellation_rate  \\\n",
       "0     boarding         26665       10862           1051           9.675934   \n",
       "1     day-care         26362        9417            919           9.758947   \n",
       "2  dog-walking         26716       12811           1218           9.507455   \n",
       "\n",
       "   booking_rate  \n",
       "0     40.735046  \n",
       "1     35.721872  \n",
       "2     47.952538  "
      ]
     },
     "execution_count": 23,
     "metadata": {},
     "output_type": "execute_result"
    }
   ],
   "source": [
    "booking_table = pd.merge(cancellations, bookings, on=['service_type', 'num_requests', 'num_booked'])\n",
    "booking_table.head()"
   ]
  },
  {
   "cell_type": "code",
   "execution_count": 24,
   "metadata": {},
   "outputs": [
    {
     "data": {
      "text/html": [
       "<div>\n",
       "<style>\n",
       "    .dataframe thead tr:only-child th {\n",
       "        text-align: right;\n",
       "    }\n",
       "\n",
       "    .dataframe thead th {\n",
       "        text-align: left;\n",
       "    }\n",
       "\n",
       "    .dataframe tbody tr th {\n",
       "        vertical-align: top;\n",
       "    }\n",
       "</style>\n",
       "<table border=\"1\" class=\"dataframe\">\n",
       "  <thead>\n",
       "    <tr style=\"text-align: right;\">\n",
       "      <th></th>\n",
       "      <th>service_type</th>\n",
       "      <th>num_requests</th>\n",
       "      <th>num_booked</th>\n",
       "      <th>num_cancelled</th>\n",
       "      <th>cancellation_rate</th>\n",
       "      <th>booking_rate</th>\n",
       "      <th>average_price</th>\n",
       "    </tr>\n",
       "  </thead>\n",
       "  <tbody>\n",
       "    <tr>\n",
       "      <th>0</th>\n",
       "      <td>boarding</td>\n",
       "      <td>26665</td>\n",
       "      <td>10862</td>\n",
       "      <td>1051</td>\n",
       "      <td>9.675934</td>\n",
       "      <td>40.735046</td>\n",
       "      <td>34.506077</td>\n",
       "    </tr>\n",
       "    <tr>\n",
       "      <th>1</th>\n",
       "      <td>day-care</td>\n",
       "      <td>26362</td>\n",
       "      <td>9417</td>\n",
       "      <td>919</td>\n",
       "      <td>9.758947</td>\n",
       "      <td>35.721872</td>\n",
       "      <td>27.013689</td>\n",
       "    </tr>\n",
       "    <tr>\n",
       "      <th>2</th>\n",
       "      <td>dog-walking</td>\n",
       "      <td>26716</td>\n",
       "      <td>12811</td>\n",
       "      <td>1218</td>\n",
       "      <td>9.507455</td>\n",
       "      <td>47.952538</td>\n",
       "      <td>21.982185</td>\n",
       "    </tr>\n",
       "  </tbody>\n",
       "</table>\n",
       "</div>"
      ],
      "text/plain": [
       "  service_type  num_requests  num_booked  num_cancelled  cancellation_rate  \\\n",
       "0     boarding         26665       10862           1051           9.675934   \n",
       "1     day-care         26362        9417            919           9.758947   \n",
       "2  dog-walking         26716       12811           1218           9.507455   \n",
       "\n",
       "   booking_rate  average_price  \n",
       "0     40.735046      34.506077  \n",
       "1     35.721872      27.013689  \n",
       "2     47.952538      21.982185  "
      ]
     },
     "execution_count": 24,
     "metadata": {},
     "output_type": "execute_result"
    }
   ],
   "source": [
    "final_table = pd.merge(booking_table, average_per_service, on='service_type')\n",
    "final_table"
   ]
  },
  {
   "cell_type": "code",
   "execution_count": 25,
   "metadata": {
    "collapsed": true
   },
   "outputs": [],
   "source": [
    "final_table = final_table.rename(columns={'service_type': 'Service',\n",
    "                                              'num_requests': 'Requests',\n",
    "                                              'num_booked': 'Bookings',\n",
    "                                              'num_cancelled': 'Cancellations',\n",
    "                                              'cancellation_rate': 'Cancellation Rate',\n",
    "                                              'booking_rate': 'Booking Rate',\n",
    "                                              'average_price': 'Average Price'\n",
    "                                             })"
   ]
  },
  {
   "cell_type": "code",
   "execution_count": 26,
   "metadata": {},
   "outputs": [
    {
     "data": {
      "text/html": [
       "<div>\n",
       "<style>\n",
       "    .dataframe thead tr:only-child th {\n",
       "        text-align: right;\n",
       "    }\n",
       "\n",
       "    .dataframe thead th {\n",
       "        text-align: left;\n",
       "    }\n",
       "\n",
       "    .dataframe tbody tr th {\n",
       "        vertical-align: top;\n",
       "    }\n",
       "</style>\n",
       "<table border=\"1\" class=\"dataframe\">\n",
       "  <thead>\n",
       "    <tr style=\"text-align: right;\">\n",
       "      <th></th>\n",
       "      <th>Service</th>\n",
       "      <th>Requests</th>\n",
       "      <th>Bookings</th>\n",
       "      <th>Cancellations</th>\n",
       "      <th>Cancellation Rate</th>\n",
       "      <th>Booking Rate</th>\n",
       "      <th>Average Price</th>\n",
       "    </tr>\n",
       "  </thead>\n",
       "  <tbody>\n",
       "    <tr>\n",
       "      <th>0</th>\n",
       "      <td>boarding</td>\n",
       "      <td>26665</td>\n",
       "      <td>10862</td>\n",
       "      <td>1051</td>\n",
       "      <td>9.675934</td>\n",
       "      <td>40.735046</td>\n",
       "      <td>34.506077</td>\n",
       "    </tr>\n",
       "    <tr>\n",
       "      <th>1</th>\n",
       "      <td>day-care</td>\n",
       "      <td>26362</td>\n",
       "      <td>9417</td>\n",
       "      <td>919</td>\n",
       "      <td>9.758947</td>\n",
       "      <td>35.721872</td>\n",
       "      <td>27.013689</td>\n",
       "    </tr>\n",
       "    <tr>\n",
       "      <th>2</th>\n",
       "      <td>dog-walking</td>\n",
       "      <td>26716</td>\n",
       "      <td>12811</td>\n",
       "      <td>1218</td>\n",
       "      <td>9.507455</td>\n",
       "      <td>47.952538</td>\n",
       "      <td>21.982185</td>\n",
       "    </tr>\n",
       "  </tbody>\n",
       "</table>\n",
       "</div>"
      ],
      "text/plain": [
       "       Service  Requests  Bookings  Cancellations  Cancellation Rate  \\\n",
       "0     boarding     26665     10862           1051           9.675934   \n",
       "1     day-care     26362      9417            919           9.758947   \n",
       "2  dog-walking     26716     12811           1218           9.507455   \n",
       "\n",
       "   Booking Rate  Average Price  \n",
       "0     40.735046      34.506077  \n",
       "1     35.721872      27.013689  \n",
       "2     47.952538      21.982185  "
      ]
     },
     "execution_count": 26,
     "metadata": {},
     "output_type": "execute_result"
    }
   ],
   "source": [
    "final_table.head()"
   ]
  },
  {
   "cell_type": "markdown",
   "metadata": {},
   "source": [
    "# 4. For uncancelled bookings, is the owner or provider more likely to leave a review and which tends to leave better reviews?"
   ]
  },
  {
   "cell_type": "code",
   "execution_count": 27,
   "metadata": {},
   "outputs": [
    {
     "data": {
      "text/html": [
       "<div>\n",
       "<style>\n",
       "    .dataframe thead tr:only-child th {\n",
       "        text-align: right;\n",
       "    }\n",
       "\n",
       "    .dataframe thead th {\n",
       "        text-align: left;\n",
       "    }\n",
       "\n",
       "    .dataframe tbody tr th {\n",
       "        vertical-align: top;\n",
       "    }\n",
       "</style>\n",
       "<table border=\"1\" class=\"dataframe\">\n",
       "  <thead>\n",
       "    <tr style=\"text-align: right;\">\n",
       "      <th></th>\n",
       "      <th>id</th>\n",
       "      <th>start_date</th>\n",
       "      <th>end_date</th>\n",
       "      <th>units</th>\n",
       "      <th>added</th>\n",
       "      <th>booking_total</th>\n",
       "      <th>cancellation_fault</th>\n",
       "      <th>requester_id</th>\n",
       "      <th>service_id</th>\n",
       "      <th>booked_at</th>\n",
       "      <th>cancelled_at</th>\n",
       "    </tr>\n",
       "  </thead>\n",
       "  <tbody>\n",
       "    <tr>\n",
       "      <th>0</th>\n",
       "      <td>208294</td>\n",
       "      <td>2017-06-06</td>\n",
       "      <td>2017-06-09</td>\n",
       "      <td>3</td>\n",
       "      <td>2017-05-25 17:06:35.796792</td>\n",
       "      <td>102</td>\n",
       "      <td>NaN</td>\n",
       "      <td>64416</td>\n",
       "      <td>81642</td>\n",
       "      <td>2017-05-26 21:02:09.499404</td>\n",
       "      <td>NaN</td>\n",
       "    </tr>\n",
       "    <tr>\n",
       "      <th>1</th>\n",
       "      <td>208295</td>\n",
       "      <td>2017-07-16</td>\n",
       "      <td>2017-07-25</td>\n",
       "      <td>9</td>\n",
       "      <td>2017-07-07 06:07:08.053227</td>\n",
       "      <td>324</td>\n",
       "      <td>NaN</td>\n",
       "      <td>64415</td>\n",
       "      <td>79559</td>\n",
       "      <td>NaN</td>\n",
       "      <td>NaN</td>\n",
       "    </tr>\n",
       "  </tbody>\n",
       "</table>\n",
       "</div>"
      ],
      "text/plain": [
       "       id  start_date    end_date  units                       added  \\\n",
       "0  208294  2017-06-06  2017-06-09      3  2017-05-25 17:06:35.796792   \n",
       "1  208295  2017-07-16  2017-07-25      9  2017-07-07 06:07:08.053227   \n",
       "\n",
       "   booking_total cancellation_fault  requester_id  service_id  \\\n",
       "0            102                NaN         64416       81642   \n",
       "1            324                NaN         64415       79559   \n",
       "\n",
       "                    booked_at cancelled_at  \n",
       "0  2017-05-26 21:02:09.499404          NaN  \n",
       "1                         NaN          NaN  "
      ]
     },
     "execution_count": 27,
     "metadata": {},
     "output_type": "execute_result"
    }
   ],
   "source": [
    "conversations.head(2)"
   ]
  },
  {
   "cell_type": "code",
   "execution_count": 28,
   "metadata": {},
   "outputs": [
    {
     "data": {
      "text/html": [
       "<div>\n",
       "<style>\n",
       "    .dataframe thead tr:only-child th {\n",
       "        text-align: right;\n",
       "    }\n",
       "\n",
       "    .dataframe thead th {\n",
       "        text-align: left;\n",
       "    }\n",
       "\n",
       "    .dataframe tbody tr th {\n",
       "        vertical-align: top;\n",
       "    }\n",
       "</style>\n",
       "<table border=\"1\" class=\"dataframe\">\n",
       "  <thead>\n",
       "    <tr style=\"text-align: right;\">\n",
       "      <th></th>\n",
       "      <th>id</th>\n",
       "      <th>content</th>\n",
       "      <th>stars</th>\n",
       "      <th>conversation_id</th>\n",
       "      <th>reviewer_id</th>\n",
       "    </tr>\n",
       "  </thead>\n",
       "  <tbody>\n",
       "    <tr>\n",
       "      <th>0</th>\n",
       "      <td>73828</td>\n",
       "      <td>Curae donec quam quisque quam.</td>\n",
       "      <td>4</td>\n",
       "      <td>208294</td>\n",
       "      <td>2617</td>\n",
       "    </tr>\n",
       "    <tr>\n",
       "      <th>1</th>\n",
       "      <td>73829</td>\n",
       "      <td>Risus donec scelerisque ultrices commodo nulla.</td>\n",
       "      <td>5</td>\n",
       "      <td>208296</td>\n",
       "      <td>64414</td>\n",
       "    </tr>\n",
       "  </tbody>\n",
       "</table>\n",
       "</div>"
      ],
      "text/plain": [
       "      id                                          content  stars  \\\n",
       "0  73828                   Curae donec quam quisque quam.      4   \n",
       "1  73829  Risus donec scelerisque ultrices commodo nulla.      5   \n",
       "\n",
       "   conversation_id  reviewer_id  \n",
       "0           208294         2617  \n",
       "1           208296        64414  "
      ]
     },
     "execution_count": 28,
     "metadata": {},
     "output_type": "execute_result"
    }
   ],
   "source": [
    "conversation_review.head(2)"
   ]
  },
  {
   "cell_type": "code",
   "execution_count": 29,
   "metadata": {},
   "outputs": [
    {
     "data": {
      "text/html": [
       "<div>\n",
       "<style>\n",
       "    .dataframe thead tr:only-child th {\n",
       "        text-align: right;\n",
       "    }\n",
       "\n",
       "    .dataframe thead th {\n",
       "        text-align: left;\n",
       "    }\n",
       "\n",
       "    .dataframe tbody tr th {\n",
       "        vertical-align: top;\n",
       "    }\n",
       "</style>\n",
       "<table border=\"1\" class=\"dataframe\">\n",
       "  <thead>\n",
       "    <tr style=\"text-align: right;\">\n",
       "      <th></th>\n",
       "      <th>conversation_id</th>\n",
       "      <th>start_date</th>\n",
       "      <th>end_date</th>\n",
       "      <th>units</th>\n",
       "      <th>added</th>\n",
       "      <th>booking_total</th>\n",
       "      <th>cancellation_fault</th>\n",
       "      <th>requester_id</th>\n",
       "      <th>service_id</th>\n",
       "      <th>booked_at</th>\n",
       "      <th>cancelled_at</th>\n",
       "    </tr>\n",
       "  </thead>\n",
       "  <tbody>\n",
       "    <tr>\n",
       "      <th>0</th>\n",
       "      <td>208294</td>\n",
       "      <td>2017-06-06</td>\n",
       "      <td>2017-06-09</td>\n",
       "      <td>3</td>\n",
       "      <td>2017-05-25 17:06:35.796792</td>\n",
       "      <td>102</td>\n",
       "      <td>NaN</td>\n",
       "      <td>64416</td>\n",
       "      <td>81642</td>\n",
       "      <td>2017-05-26 21:02:09.499404</td>\n",
       "      <td>NaN</td>\n",
       "    </tr>\n",
       "    <tr>\n",
       "      <th>1</th>\n",
       "      <td>208295</td>\n",
       "      <td>2017-07-16</td>\n",
       "      <td>2017-07-25</td>\n",
       "      <td>9</td>\n",
       "      <td>2017-07-07 06:07:08.053227</td>\n",
       "      <td>324</td>\n",
       "      <td>NaN</td>\n",
       "      <td>64415</td>\n",
       "      <td>79559</td>\n",
       "      <td>NaN</td>\n",
       "      <td>NaN</td>\n",
       "    </tr>\n",
       "  </tbody>\n",
       "</table>\n",
       "</div>"
      ],
      "text/plain": [
       "   conversation_id  start_date    end_date  units                       added  \\\n",
       "0           208294  2017-06-06  2017-06-09      3  2017-05-25 17:06:35.796792   \n",
       "1           208295  2017-07-16  2017-07-25      9  2017-07-07 06:07:08.053227   \n",
       "\n",
       "   booking_total cancellation_fault  requester_id  service_id  \\\n",
       "0            102                NaN         64416       81642   \n",
       "1            324                NaN         64415       79559   \n",
       "\n",
       "                    booked_at cancelled_at  \n",
       "0  2017-05-26 21:02:09.499404          NaN  \n",
       "1                         NaN          NaN  "
      ]
     },
     "execution_count": 29,
     "metadata": {},
     "output_type": "execute_result"
    }
   ],
   "source": [
    "#Need to line up the two conversation_ids\n",
    "conversations = conversations.rename(columns={'id': 'conversation_id'})\n",
    "conversations.head(2)"
   ]
  },
  {
   "cell_type": "code",
   "execution_count": 30,
   "metadata": {},
   "outputs": [
    {
     "data": {
      "text/plain": [
       "<matplotlib.text.Text at 0x107759c18>"
      ]
     },
     "execution_count": 30,
     "metadata": {},
     "output_type": "execute_result"
    },
    {
     "data": {
      "image/png": "[encoded data removed]",
      "text/plain": [
       "<matplotlib.figure.Figure at 0x107720588>"
      ]
     },
     "metadata": {},
     "output_type": "display_data"
    }
   ],
   "source": [
    "plt.hist(conversation_review['stars']);\n",
    "plt.xlabel('Stars')\n",
    "plt.ylabel('Count')"
   ]
  },
  {
   "cell_type": "code",
   "execution_count": 31,
   "metadata": {},
   "outputs": [
    {
     "data": {
      "text/plain": [
       "count    28536.000000\n",
       "mean         4.295697\n",
       "std          1.277111\n",
       "min          1.000000\n",
       "25%          4.000000\n",
       "50%          5.000000\n",
       "75%          5.000000\n",
       "max          5.000000\n",
       "Name: stars, dtype: float64"
      ]
     },
     "execution_count": 31,
     "metadata": {},
     "output_type": "execute_result"
    }
   ],
   "source": [
    "conversation_review.stars.describe()"
   ]
  },
  {
   "cell_type": "code",
   "execution_count": 32,
   "metadata": {
    "collapsed": true
   },
   "outputs": [],
   "source": [
    "review_table = pd.merge(conversations, conversation_review, on='conversation_id')"
   ]
  },
  {
   "cell_type": "code",
   "execution_count": 33,
   "metadata": {},
   "outputs": [
    {
     "name": "stdout",
     "output_type": "stream",
     "text": [
      "(28536, 15)\n"
     ]
    },
    {
     "data": {
      "text/html": [
       "<div>\n",
       "<style>\n",
       "    .dataframe thead tr:only-child th {\n",
       "        text-align: right;\n",
       "    }\n",
       "\n",
       "    .dataframe thead th {\n",
       "        text-align: left;\n",
       "    }\n",
       "\n",
       "    .dataframe tbody tr th {\n",
       "        vertical-align: top;\n",
       "    }\n",
       "</style>\n",
       "<table border=\"1\" class=\"dataframe\">\n",
       "  <thead>\n",
       "    <tr style=\"text-align: right;\">\n",
       "      <th></th>\n",
       "      <th>conversation_id</th>\n",
       "      <th>start_date</th>\n",
       "      <th>end_date</th>\n",
       "      <th>units</th>\n",
       "      <th>added</th>\n",
       "      <th>booking_total</th>\n",
       "      <th>cancellation_fault</th>\n",
       "      <th>requester_id</th>\n",
       "      <th>service_id</th>\n",
       "      <th>booked_at</th>\n",
       "      <th>cancelled_at</th>\n",
       "      <th>id</th>\n",
       "      <th>content</th>\n",
       "      <th>stars</th>\n",
       "      <th>reviewer_id</th>\n",
       "    </tr>\n",
       "  </thead>\n",
       "  <tbody>\n",
       "    <tr>\n",
       "      <th>0</th>\n",
       "      <td>208294</td>\n",
       "      <td>2017-06-06</td>\n",
       "      <td>2017-06-09</td>\n",
       "      <td>3</td>\n",
       "      <td>2017-05-25 17:06:35.796792</td>\n",
       "      <td>102</td>\n",
       "      <td>NaN</td>\n",
       "      <td>64416</td>\n",
       "      <td>81642</td>\n",
       "      <td>2017-05-26 21:02:09.499404</td>\n",
       "      <td>NaN</td>\n",
       "      <td>73828</td>\n",
       "      <td>Curae donec quam quisque quam.</td>\n",
       "      <td>4</td>\n",
       "      <td>2617</td>\n",
       "    </tr>\n",
       "    <tr>\n",
       "      <th>1</th>\n",
       "      <td>208296</td>\n",
       "      <td>2017-06-06</td>\n",
       "      <td>2017-06-12</td>\n",
       "      <td>6</td>\n",
       "      <td>2017-05-26 17:47:38.312937</td>\n",
       "      <td>102</td>\n",
       "      <td>NaN</td>\n",
       "      <td>64414</td>\n",
       "      <td>91348</td>\n",
       "      <td>2017-05-29 01:27:14.256611</td>\n",
       "      <td>NaN</td>\n",
       "      <td>73829</td>\n",
       "      <td>Risus donec scelerisque ultrices commodo nulla.</td>\n",
       "      <td>5</td>\n",
       "      <td>64414</td>\n",
       "    </tr>\n",
       "    <tr>\n",
       "      <th>2</th>\n",
       "      <td>208298</td>\n",
       "      <td>2017-05-25</td>\n",
       "      <td>2017-05-28</td>\n",
       "      <td>3</td>\n",
       "      <td>2017-05-15 10:00:03.702143</td>\n",
       "      <td>66</td>\n",
       "      <td>NaN</td>\n",
       "      <td>64411</td>\n",
       "      <td>82832</td>\n",
       "      <td>2017-05-16 00:40:10.332902</td>\n",
       "      <td>NaN</td>\n",
       "      <td>73830</td>\n",
       "      <td>Morbi etiam neque ornare curae senectus nunc b...</td>\n",
       "      <td>5</td>\n",
       "      <td>3312</td>\n",
       "    </tr>\n",
       "    <tr>\n",
       "      <th>3</th>\n",
       "      <td>208299</td>\n",
       "      <td>2017-06-24</td>\n",
       "      <td>2017-06-27</td>\n",
       "      <td>3</td>\n",
       "      <td>2017-06-16 04:33:48.793964</td>\n",
       "      <td>108</td>\n",
       "      <td>NaN</td>\n",
       "      <td>64410</td>\n",
       "      <td>86034</td>\n",
       "      <td>2017-06-17 03:08:16.587870</td>\n",
       "      <td>NaN</td>\n",
       "      <td>73831</td>\n",
       "      <td>Lorem ipsum orci velit varius adipiscing nulla.</td>\n",
       "      <td>5</td>\n",
       "      <td>64410</td>\n",
       "    </tr>\n",
       "    <tr>\n",
       "      <th>4</th>\n",
       "      <td>208302</td>\n",
       "      <td>2017-05-31</td>\n",
       "      <td>2017-06-04</td>\n",
       "      <td>4</td>\n",
       "      <td>2017-05-22 18:01:37.925072</td>\n",
       "      <td>152</td>\n",
       "      <td>NaN</td>\n",
       "      <td>64407</td>\n",
       "      <td>79555</td>\n",
       "      <td>2017-05-24 19:43:52.731090</td>\n",
       "      <td>NaN</td>\n",
       "      <td>73832</td>\n",
       "      <td>Morbi magna sed fusce facilisis orci condiment...</td>\n",
       "      <td>5</td>\n",
       "      <td>64407</td>\n",
       "    </tr>\n",
       "  </tbody>\n",
       "</table>\n",
       "</div>"
      ],
      "text/plain": [
       "   conversation_id  start_date    end_date  units                       added  \\\n",
       "0           208294  2017-06-06  2017-06-09      3  2017-05-25 17:06:35.796792   \n",
       "1           208296  2017-06-06  2017-06-12      6  2017-05-26 17:47:38.312937   \n",
       "2           208298  2017-05-25  2017-05-28      3  2017-05-15 10:00:03.702143   \n",
       "3           208299  2017-06-24  2017-06-27      3  2017-06-16 04:33:48.793964   \n",
       "4           208302  2017-05-31  2017-06-04      4  2017-05-22 18:01:37.925072   \n",
       "\n",
       "   booking_total cancellation_fault  requester_id  service_id  \\\n",
       "0            102                NaN         64416       81642   \n",
       "1            102                NaN         64414       91348   \n",
       "2             66                NaN         64411       82832   \n",
       "3            108                NaN         64410       86034   \n",
       "4            152                NaN         64407       79555   \n",
       "\n",
       "                    booked_at cancelled_at     id  \\\n",
       "0  2017-05-26 21:02:09.499404          NaN  73828   \n",
       "1  2017-05-29 01:27:14.256611          NaN  73829   \n",
       "2  2017-05-16 00:40:10.332902          NaN  73830   \n",
       "3  2017-06-17 03:08:16.587870          NaN  73831   \n",
       "4  2017-05-24 19:43:52.731090          NaN  73832   \n",
       "\n",
       "                                             content  stars  reviewer_id  \n",
       "0                     Curae donec quam quisque quam.      4         2617  \n",
       "1    Risus donec scelerisque ultrices commodo nulla.      5        64414  \n",
       "2  Morbi etiam neque ornare curae senectus nunc b...      5         3312  \n",
       "3    Lorem ipsum orci velit varius adipiscing nulla.      5        64410  \n",
       "4  Morbi magna sed fusce facilisis orci condiment...      5        64407  "
      ]
     },
     "execution_count": 33,
     "metadata": {},
     "output_type": "execute_result"
    }
   ],
   "source": [
    "print(review_table.shape)\n",
    "review_table.head()"
   ]
  },
  {
   "cell_type": "code",
   "execution_count": 34,
   "metadata": {},
   "outputs": [
    {
     "data": {
      "text/plain": [
       "conversation_id           0\n",
       "start_date                0\n",
       "end_date                  0\n",
       "units                     0\n",
       "added                     0\n",
       "booking_total             0\n",
       "cancellation_fault    28536\n",
       "requester_id              0\n",
       "service_id                0\n",
       "booked_at                 0\n",
       "cancelled_at          28536\n",
       "id                        0\n",
       "content                   0\n",
       "stars                     0\n",
       "reviewer_id               0\n",
       "dtype: int64"
      ]
     },
     "execution_count": 34,
     "metadata": {},
     "output_type": "execute_result"
    }
   ],
   "source": [
    "review_table.isnull().sum()"
   ]
  },
  {
   "cell_type": "code",
   "execution_count": 35,
   "metadata": {
    "collapsed": true
   },
   "outputs": [],
   "source": [
    "# Okay so we have some work to do with the NANs."
   ]
  },
  {
   "cell_type": "code",
   "execution_count": 36,
   "metadata": {
    "collapsed": true
   },
   "outputs": [],
   "source": [
    "review_table['booker'] = np.where(review_table['requester_id'] == review_table['reviewer_id'], 'pet_owner', 'service_provider')"
   ]
  },
  {
   "cell_type": "code",
   "execution_count": 37,
   "metadata": {},
   "outputs": [
    {
     "data": {
      "text/html": [
       "<div>\n",
       "<style>\n",
       "    .dataframe thead tr:only-child th {\n",
       "        text-align: right;\n",
       "    }\n",
       "\n",
       "    .dataframe thead th {\n",
       "        text-align: left;\n",
       "    }\n",
       "\n",
       "    .dataframe tbody tr th {\n",
       "        vertical-align: top;\n",
       "    }\n",
       "</style>\n",
       "<table border=\"1\" class=\"dataframe\">\n",
       "  <thead>\n",
       "    <tr style=\"text-align: right;\">\n",
       "      <th></th>\n",
       "      <th>conversation_id</th>\n",
       "      <th>start_date</th>\n",
       "      <th>end_date</th>\n",
       "      <th>units</th>\n",
       "      <th>added</th>\n",
       "      <th>booking_total</th>\n",
       "      <th>cancellation_fault</th>\n",
       "      <th>requester_id</th>\n",
       "      <th>service_id</th>\n",
       "      <th>booked_at</th>\n",
       "      <th>cancelled_at</th>\n",
       "      <th>id</th>\n",
       "      <th>content</th>\n",
       "      <th>stars</th>\n",
       "      <th>reviewer_id</th>\n",
       "      <th>booker</th>\n",
       "    </tr>\n",
       "  </thead>\n",
       "  <tbody>\n",
       "    <tr>\n",
       "      <th>0</th>\n",
       "      <td>208294</td>\n",
       "      <td>2017-06-06</td>\n",
       "      <td>2017-06-09</td>\n",
       "      <td>3</td>\n",
       "      <td>2017-05-25 17:06:35.796792</td>\n",
       "      <td>102</td>\n",
       "      <td>NaN</td>\n",
       "      <td>64416</td>\n",
       "      <td>81642</td>\n",
       "      <td>2017-05-26 21:02:09.499404</td>\n",
       "      <td>NaN</td>\n",
       "      <td>73828</td>\n",
       "      <td>Curae donec quam quisque quam.</td>\n",
       "      <td>4</td>\n",
       "      <td>2617</td>\n",
       "      <td>service_provider</td>\n",
       "    </tr>\n",
       "    <tr>\n",
       "      <th>1</th>\n",
       "      <td>208296</td>\n",
       "      <td>2017-06-06</td>\n",
       "      <td>2017-06-12</td>\n",
       "      <td>6</td>\n",
       "      <td>2017-05-26 17:47:38.312937</td>\n",
       "      <td>102</td>\n",
       "      <td>NaN</td>\n",
       "      <td>64414</td>\n",
       "      <td>91348</td>\n",
       "      <td>2017-05-29 01:27:14.256611</td>\n",
       "      <td>NaN</td>\n",
       "      <td>73829</td>\n",
       "      <td>Risus donec scelerisque ultrices commodo nulla.</td>\n",
       "      <td>5</td>\n",
       "      <td>64414</td>\n",
       "      <td>pet_owner</td>\n",
       "    </tr>\n",
       "  </tbody>\n",
       "</table>\n",
       "</div>"
      ],
      "text/plain": [
       "   conversation_id  start_date    end_date  units                       added  \\\n",
       "0           208294  2017-06-06  2017-06-09      3  2017-05-25 17:06:35.796792   \n",
       "1           208296  2017-06-06  2017-06-12      6  2017-05-26 17:47:38.312937   \n",
       "\n",
       "   booking_total cancellation_fault  requester_id  service_id  \\\n",
       "0            102                NaN         64416       81642   \n",
       "1            102                NaN         64414       91348   \n",
       "\n",
       "                    booked_at cancelled_at     id  \\\n",
       "0  2017-05-26 21:02:09.499404          NaN  73828   \n",
       "1  2017-05-29 01:27:14.256611          NaN  73829   \n",
       "\n",
       "                                           content  stars  reviewer_id  \\\n",
       "0                   Curae donec quam quisque quam.      4         2617   \n",
       "1  Risus donec scelerisque ultrices commodo nulla.      5        64414   \n",
       "\n",
       "             booker  \n",
       "0  service_provider  \n",
       "1         pet_owner  "
      ]
     },
     "execution_count": 37,
     "metadata": {},
     "output_type": "execute_result"
    }
   ],
   "source": [
    "review_table.head(2)"
   ]
  },
  {
   "cell_type": "code",
   "execution_count": 38,
   "metadata": {
    "collapsed": true
   },
   "outputs": [],
   "source": [
    "#This table is a little clunky, lets clean it up\n",
    "review_table = review_table.drop(['service_id','booked_at','cancelled_at','start_date','end_date',\\\n",
    "                   'units','added','booking_total','cancellation_fault','content'], axis=1)"
   ]
  },
  {
   "cell_type": "code",
   "execution_count": 39,
   "metadata": {},
   "outputs": [
    {
     "data": {
      "text/html": [
       "<div>\n",
       "<style>\n",
       "    .dataframe thead tr:only-child th {\n",
       "        text-align: right;\n",
       "    }\n",
       "\n",
       "    .dataframe thead th {\n",
       "        text-align: left;\n",
       "    }\n",
       "\n",
       "    .dataframe tbody tr th {\n",
       "        vertical-align: top;\n",
       "    }\n",
       "</style>\n",
       "<table border=\"1\" class=\"dataframe\">\n",
       "  <thead>\n",
       "    <tr style=\"text-align: right;\">\n",
       "      <th></th>\n",
       "      <th>conversation_id</th>\n",
       "      <th>requester_id</th>\n",
       "      <th>id</th>\n",
       "      <th>stars</th>\n",
       "      <th>reviewer_id</th>\n",
       "      <th>booker</th>\n",
       "    </tr>\n",
       "  </thead>\n",
       "  <tbody>\n",
       "    <tr>\n",
       "      <th>0</th>\n",
       "      <td>208294</td>\n",
       "      <td>64416</td>\n",
       "      <td>73828</td>\n",
       "      <td>4</td>\n",
       "      <td>2617</td>\n",
       "      <td>service_provider</td>\n",
       "    </tr>\n",
       "    <tr>\n",
       "      <th>1</th>\n",
       "      <td>208296</td>\n",
       "      <td>64414</td>\n",
       "      <td>73829</td>\n",
       "      <td>5</td>\n",
       "      <td>64414</td>\n",
       "      <td>pet_owner</td>\n",
       "    </tr>\n",
       "    <tr>\n",
       "      <th>2</th>\n",
       "      <td>208298</td>\n",
       "      <td>64411</td>\n",
       "      <td>73830</td>\n",
       "      <td>5</td>\n",
       "      <td>3312</td>\n",
       "      <td>service_provider</td>\n",
       "    </tr>\n",
       "    <tr>\n",
       "      <th>3</th>\n",
       "      <td>208299</td>\n",
       "      <td>64410</td>\n",
       "      <td>73831</td>\n",
       "      <td>5</td>\n",
       "      <td>64410</td>\n",
       "      <td>pet_owner</td>\n",
       "    </tr>\n",
       "    <tr>\n",
       "      <th>4</th>\n",
       "      <td>208302</td>\n",
       "      <td>64407</td>\n",
       "      <td>73832</td>\n",
       "      <td>5</td>\n",
       "      <td>64407</td>\n",
       "      <td>pet_owner</td>\n",
       "    </tr>\n",
       "  </tbody>\n",
       "</table>\n",
       "</div>"
      ],
      "text/plain": [
       "   conversation_id  requester_id     id  stars  reviewer_id            booker\n",
       "0           208294         64416  73828      4         2617  service_provider\n",
       "1           208296         64414  73829      5        64414         pet_owner\n",
       "2           208298         64411  73830      5         3312  service_provider\n",
       "3           208299         64410  73831      5        64410         pet_owner\n",
       "4           208302         64407  73832      5        64407         pet_owner"
      ]
     },
     "execution_count": 39,
     "metadata": {},
     "output_type": "execute_result"
    }
   ],
   "source": [
    "review_table.head()"
   ]
  },
  {
   "cell_type": "code",
   "execution_count": 40,
   "metadata": {
    "collapsed": true
   },
   "outputs": [],
   "source": [
    "#This is a much easier table to work with and analyze. "
   ]
  },
  {
   "cell_type": "code",
   "execution_count": 42,
   "metadata": {},
   "outputs": [
    {
     "data": {
      "text/plain": [
       "booker\n",
       "pet_owner           22493\n",
       "service_provider     6043\n",
       "Name: stars, dtype: int64"
      ]
     },
     "execution_count": 42,
     "metadata": {},
     "output_type": "execute_result"
    }
   ],
   "source": [
    "reviewers = review_table.groupby('booker')['stars'].count()\n",
    "reviewers"
   ]
  },
  {
   "cell_type": "code",
   "execution_count": 43,
   "metadata": {
    "collapsed": true
   },
   "outputs": [],
   "source": [
    "#It appears from this that the pet owners are more likely to leave a reveiw."
   ]
  },
  {
   "cell_type": "code",
   "execution_count": 44,
   "metadata": {},
   "outputs": [
    {
     "data": {
      "text/plain": [
       "78.82324081861508"
      ]
     },
     "execution_count": 44,
     "metadata": {},
     "output_type": "execute_result"
    }
   ],
   "source": [
    "22493 / (22493+6043) * 100"
   ]
  },
  {
   "cell_type": "code",
   "execution_count": 45,
   "metadata": {
    "collapsed": true
   },
   "outputs": [],
   "source": [
    "#Almost 79% of pet owners leave reviews. Lets check out service providers."
   ]
  },
  {
   "cell_type": "code",
   "execution_count": 46,
   "metadata": {},
   "outputs": [
    {
     "data": {
      "text/plain": [
       "21.176759181384917"
      ]
     },
     "execution_count": 46,
     "metadata": {},
     "output_type": "execute_result"
    }
   ],
   "source": [
    "6043 / (22493+6043) * 100"
   ]
  },
  {
   "cell_type": "code",
   "execution_count": 47,
   "metadata": {
    "collapsed": true
   },
   "outputs": [],
   "source": [
    "#Only about 21% of service providers leave a review. "
   ]
  },
  {
   "cell_type": "markdown",
   "metadata": {},
   "source": [
    "# Thoughts \n"
   ]
  },
  {
   "cell_type": "markdown",
   "metadata": {},
   "source": [
    "I think the old addage of \"you have a good experience you tell one person, you have a bad experience you tell five\" definitely holds true for the service providers. If a stay went well and there was nothing exceptional about the pet (good or bad) a provider might not be inclined to leave a review. In short they probably see it as \"business as usual\"\n",
    "\n",
    "Pet owners on the other hand might have more skin in the game so to speak. If service_provider \"X\" sends lots of pictures and is very active with the pet the owner is more likely to comment on and leave a review of the service provider. As someone who has a dog I know for a fact that my partner and I have reviewed almost every sitter we have had, Beau, my Golden Retriever has always come back super tired, we have received countless pictures and the level of service has been superb. "
   ]
  },
  {
   "cell_type": "markdown",
   "metadata": {},
   "source": [
    "# Additional Analysis"
   ]
  },
  {
   "cell_type": "markdown",
   "metadata": {},
   "source": [
    "I think it would be a fun and worth while to dive into the sentiment analysis of the comments and see what types of words, activities lead to positive or negative reviews. \n",
    "\n",
    "Also I think it would be worthwhile to create a photos column with number of photos taken during the stay and see what correlation that has with the number of stars and the overall rating of the service_provider. "
   ]
  },
  {
   "cell_type": "code",
   "execution_count": null,
   "metadata": {
    "collapsed": true
   },
   "outputs": [],
   "source": []
  }
 ],
 "metadata": {
  "kernelspec": {
   "display_name": "Python 3",
   "language": "python",
   "name": "python3"
  },
  "language_info": {
   "codemirror_mode": {
    "name": "ipython",
    "version": 3
   },
   "file_extension": ".py",
   "mimetype": "text/x-python",
   "name": "python",
   "nbconvert_exporter": "python",
   "pygments_lexer": "ipython3",
   "version": "3.6.2"
  }
 },
 "nbformat": 4,
 "nbformat_minor": 2
}
