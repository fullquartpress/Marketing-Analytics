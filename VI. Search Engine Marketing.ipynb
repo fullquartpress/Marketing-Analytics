{
 "cells": [
  {
   "cell_type": "code",
   "execution_count": 6,
   "metadata": {},
   "outputs": [],
   "source": [
    "import numpy as np \n",
    "import pandas as pd\n",
    "import matplotlib.pyplot as plt\n",
    "% matplotlib inline \n",
    "import datetime as dt\n",
    "from datetime import datetime "
   ]
  },
  {
   "cell_type": "markdown",
   "metadata": {},
   "source": [
    "# 1. For each day, determine the count of users that joined and were acquiredthrough Google. Plot this and confirm there is an inflection point on or near 2017-04-12"
   ]
  },
  {
   "cell_type": "markdown",
   "metadata": {},
   "source": [
    "#### Historically, this company spent an average of 30 dollars per account to advertise in the 2nd position on Google. However, on 2017-04-12 , they decided to start biddingor the 1st position. Since 2017-04-12 , they have spent 210,285 dollars in total."
   ]
  },
  {
   "cell_type": "code",
   "execution_count": 2,
   "metadata": {
    "scrolled": true
   },
   "outputs": [
    {
     "data": {
      "text/html": [
       "<div>\n",
       "<style>\n",
       "    .dataframe thead tr:only-child th {\n",
       "        text-align: right;\n",
       "    }\n",
       "\n",
       "    .dataframe thead th {\n",
       "        text-align: left;\n",
       "    }\n",
       "\n",
       "    .dataframe tbody tr th {\n",
       "        vertical-align: top;\n",
       "    }\n",
       "</style>\n",
       "<table border=\"1\" class=\"dataframe\">\n",
       "  <thead>\n",
       "    <tr style=\"text-align: right;\">\n",
       "      <th></th>\n",
       "      <th>id</th>\n",
       "      <th>first_name</th>\n",
       "      <th>last_name</th>\n",
       "      <th>email</th>\n",
       "      <th>channel</th>\n",
       "      <th>date_joined</th>\n",
       "      <th>photo</th>\n",
       "      <th>fee</th>\n",
       "      <th>gender</th>\n",
       "    </tr>\n",
       "  </thead>\n",
       "  <tbody>\n",
       "    <tr>\n",
       "      <th>0</th>\n",
       "      <td>1</td>\n",
       "      <td>Meaghan</td>\n",
       "      <td>Lapete</td>\n",
       "      <td>meaghan.lapete820@aol.com</td>\n",
       "      <td>NaN</td>\n",
       "      <td>2015-07-12 15:13:16.673652</td>\n",
       "      <td>https://placekitten.com/360/208</td>\n",
       "      <td>0.0</td>\n",
       "      <td>f</td>\n",
       "    </tr>\n",
       "    <tr>\n",
       "      <th>1</th>\n",
       "      <td>2</td>\n",
       "      <td>Aracelis</td>\n",
       "      <td>Luhr</td>\n",
       "      <td>aracelis.luhr844@rover.com</td>\n",
       "      <td>NaN</td>\n",
       "      <td>2015-07-12 13:44:21.949482</td>\n",
       "      <td>https://placekitten.com/392/227</td>\n",
       "      <td>0.0</td>\n",
       "      <td>f</td>\n",
       "    </tr>\n",
       "    <tr>\n",
       "      <th>2</th>\n",
       "      <td>3</td>\n",
       "      <td>Vernita</td>\n",
       "      <td>Amodei</td>\n",
       "      <td>vernita.amodei542@rover.com</td>\n",
       "      <td>NaN</td>\n",
       "      <td>2015-07-12 11:36:06.992714</td>\n",
       "      <td>https://placekitten.com/275/300</td>\n",
       "      <td>0.0</td>\n",
       "      <td>f</td>\n",
       "    </tr>\n",
       "    <tr>\n",
       "      <th>3</th>\n",
       "      <td>4</td>\n",
       "      <td>Marlin</td>\n",
       "      <td>Flamm</td>\n",
       "      <td>marlin.flamm613@yahoo.com</td>\n",
       "      <td>NaN</td>\n",
       "      <td>2015-07-12 12:23:43.627071</td>\n",
       "      <td>https://placekitten.com/254/257</td>\n",
       "      <td>0.0</td>\n",
       "      <td>f</td>\n",
       "    </tr>\n",
       "    <tr>\n",
       "      <th>4</th>\n",
       "      <td>5</td>\n",
       "      <td>Eugena</td>\n",
       "      <td>Rigger</td>\n",
       "      <td>eugena.rigger847@yahoo.com</td>\n",
       "      <td>NaN</td>\n",
       "      <td>2015-07-12 07:40:36.724086</td>\n",
       "      <td>https://placekitten.com/222/370</td>\n",
       "      <td>0.0</td>\n",
       "      <td>f</td>\n",
       "    </tr>\n",
       "  </tbody>\n",
       "</table>\n",
       "</div>"
      ],
      "text/plain": [
       "   id first_name last_name                        email channel  \\\n",
       "0   1    Meaghan    Lapete    meaghan.lapete820@aol.com     NaN   \n",
       "1   2   Aracelis      Luhr   aracelis.luhr844@rover.com     NaN   \n",
       "2   3    Vernita    Amodei  vernita.amodei542@rover.com     NaN   \n",
       "3   4     Marlin     Flamm    marlin.flamm613@yahoo.com     NaN   \n",
       "4   5     Eugena    Rigger   eugena.rigger847@yahoo.com     NaN   \n",
       "\n",
       "                  date_joined                            photo  fee gender  \n",
       "0  2015-07-12 15:13:16.673652  https://placekitten.com/360/208  0.0      f  \n",
       "1  2015-07-12 13:44:21.949482  https://placekitten.com/392/227  0.0      f  \n",
       "2  2015-07-12 11:36:06.992714  https://placekitten.com/275/300  0.0      f  \n",
       "3  2015-07-12 12:23:43.627071  https://placekitten.com/254/257  0.0      f  \n",
       "4  2015-07-12 07:40:36.724086  https://placekitten.com/222/370  0.0      f  "
      ]
     },
     "execution_count": 2,
     "metadata": {},
     "output_type": "execute_result"
    }
   ],
   "source": [
    "people_person = pd.read_csv('drive-download-20180422T230536Z-001/people_person.csv')\n",
    "people_person.head()"
   ]
  },
  {
   "cell_type": "code",
   "execution_count": 4,
   "metadata": {},
   "outputs": [
    {
     "data": {
      "text/plain": [
       "Google      14317\n",
       "WOM         12528\n",
       "Facebook    12515\n",
       "Yelp        12425\n",
       "Name: channel, dtype: int64"
      ]
     },
     "execution_count": 4,
     "metadata": {},
     "output_type": "execute_result"
    }
   ],
   "source": [
    "people_person.channel.value_counts()"
   ]
  },
  {
   "cell_type": "code",
   "execution_count": 7,
   "metadata": {
    "collapsed": true
   },
   "outputs": [],
   "source": [
    "people_person['date_joined'] = pd.to_datetime(people_person['date_joined'])"
   ]
  },
  {
   "cell_type": "code",
   "execution_count": 8,
   "metadata": {
    "scrolled": true
   },
   "outputs": [
    {
     "data": {
      "text/html": [
       "<div>\n",
       "<style>\n",
       "    .dataframe thead tr:only-child th {\n",
       "        text-align: right;\n",
       "    }\n",
       "\n",
       "    .dataframe thead th {\n",
       "        text-align: left;\n",
       "    }\n",
       "\n",
       "    .dataframe tbody tr th {\n",
       "        vertical-align: top;\n",
       "    }\n",
       "</style>\n",
       "<table border=\"1\" class=\"dataframe\">\n",
       "  <thead>\n",
       "    <tr style=\"text-align: right;\">\n",
       "      <th></th>\n",
       "      <th>id</th>\n",
       "      <th>first_name</th>\n",
       "      <th>last_name</th>\n",
       "      <th>email</th>\n",
       "      <th>channel</th>\n",
       "      <th>date_joined</th>\n",
       "      <th>photo</th>\n",
       "      <th>fee</th>\n",
       "      <th>gender</th>\n",
       "      <th>date</th>\n",
       "    </tr>\n",
       "  </thead>\n",
       "  <tbody>\n",
       "    <tr>\n",
       "      <th>0</th>\n",
       "      <td>1</td>\n",
       "      <td>Meaghan</td>\n",
       "      <td>Lapete</td>\n",
       "      <td>meaghan.lapete820@aol.com</td>\n",
       "      <td>NaN</td>\n",
       "      <td>2015-07-12 15:13:16.673652</td>\n",
       "      <td>https://placekitten.com/360/208</td>\n",
       "      <td>0.0</td>\n",
       "      <td>f</td>\n",
       "      <td>2015-07-12</td>\n",
       "    </tr>\n",
       "    <tr>\n",
       "      <th>1</th>\n",
       "      <td>2</td>\n",
       "      <td>Aracelis</td>\n",
       "      <td>Luhr</td>\n",
       "      <td>aracelis.luhr844@rover.com</td>\n",
       "      <td>NaN</td>\n",
       "      <td>2015-07-12 13:44:21.949482</td>\n",
       "      <td>https://placekitten.com/392/227</td>\n",
       "      <td>0.0</td>\n",
       "      <td>f</td>\n",
       "      <td>2015-07-12</td>\n",
       "    </tr>\n",
       "    <tr>\n",
       "      <th>2</th>\n",
       "      <td>3</td>\n",
       "      <td>Vernita</td>\n",
       "      <td>Amodei</td>\n",
       "      <td>vernita.amodei542@rover.com</td>\n",
       "      <td>NaN</td>\n",
       "      <td>2015-07-12 11:36:06.992714</td>\n",
       "      <td>https://placekitten.com/275/300</td>\n",
       "      <td>0.0</td>\n",
       "      <td>f</td>\n",
       "      <td>2015-07-12</td>\n",
       "    </tr>\n",
       "    <tr>\n",
       "      <th>3</th>\n",
       "      <td>4</td>\n",
       "      <td>Marlin</td>\n",
       "      <td>Flamm</td>\n",
       "      <td>marlin.flamm613@yahoo.com</td>\n",
       "      <td>NaN</td>\n",
       "      <td>2015-07-12 12:23:43.627071</td>\n",
       "      <td>https://placekitten.com/254/257</td>\n",
       "      <td>0.0</td>\n",
       "      <td>f</td>\n",
       "      <td>2015-07-12</td>\n",
       "    </tr>\n",
       "    <tr>\n",
       "      <th>4</th>\n",
       "      <td>5</td>\n",
       "      <td>Eugena</td>\n",
       "      <td>Rigger</td>\n",
       "      <td>eugena.rigger847@yahoo.com</td>\n",
       "      <td>NaN</td>\n",
       "      <td>2015-07-12 07:40:36.724086</td>\n",
       "      <td>https://placekitten.com/222/370</td>\n",
       "      <td>0.0</td>\n",
       "      <td>f</td>\n",
       "      <td>2015-07-12</td>\n",
       "    </tr>\n",
       "  </tbody>\n",
       "</table>\n",
       "</div>"
      ],
      "text/plain": [
       "   id first_name last_name                        email channel  \\\n",
       "0   1    Meaghan    Lapete    meaghan.lapete820@aol.com     NaN   \n",
       "1   2   Aracelis      Luhr   aracelis.luhr844@rover.com     NaN   \n",
       "2   3    Vernita    Amodei  vernita.amodei542@rover.com     NaN   \n",
       "3   4     Marlin     Flamm    marlin.flamm613@yahoo.com     NaN   \n",
       "4   5     Eugena    Rigger   eugena.rigger847@yahoo.com     NaN   \n",
       "\n",
       "                 date_joined                            photo  fee gender  \\\n",
       "0 2015-07-12 15:13:16.673652  https://placekitten.com/360/208  0.0      f   \n",
       "1 2015-07-12 13:44:21.949482  https://placekitten.com/392/227  0.0      f   \n",
       "2 2015-07-12 11:36:06.992714  https://placekitten.com/275/300  0.0      f   \n",
       "3 2015-07-12 12:23:43.627071  https://placekitten.com/254/257  0.0      f   \n",
       "4 2015-07-12 07:40:36.724086  https://placekitten.com/222/370  0.0      f   \n",
       "\n",
       "         date  \n",
       "0  2015-07-12  \n",
       "1  2015-07-12  \n",
       "2  2015-07-12  \n",
       "3  2015-07-12  \n",
       "4  2015-07-12  "
      ]
     },
     "execution_count": 8,
     "metadata": {},
     "output_type": "execute_result"
    }
   ],
   "source": [
    "people_person['date'] = people_person.date_joined.dt.date\n",
    "people_person.head()"
   ]
  },
  {
   "cell_type": "code",
   "execution_count": 9,
   "metadata": {},
   "outputs": [
    {
     "data": {
      "text/html": [
       "<div>\n",
       "<style>\n",
       "    .dataframe thead tr:only-child th {\n",
       "        text-align: right;\n",
       "    }\n",
       "\n",
       "    .dataframe thead th {\n",
       "        text-align: left;\n",
       "    }\n",
       "\n",
       "    .dataframe tbody tr th {\n",
       "        vertical-align: top;\n",
       "    }\n",
       "</style>\n",
       "<table border=\"1\" class=\"dataframe\">\n",
       "  <thead>\n",
       "    <tr style=\"text-align: right;\">\n",
       "      <th></th>\n",
       "      <th>id</th>\n",
       "      <th>first_name</th>\n",
       "      <th>last_name</th>\n",
       "      <th>email</th>\n",
       "      <th>channel</th>\n",
       "      <th>date_joined</th>\n",
       "      <th>photo</th>\n",
       "      <th>fee</th>\n",
       "      <th>gender</th>\n",
       "      <th>date</th>\n",
       "    </tr>\n",
       "  </thead>\n",
       "  <tbody>\n",
       "    <tr>\n",
       "      <th>100</th>\n",
       "      <td>101</td>\n",
       "      <td>Dara</td>\n",
       "      <td>Lagomarsino</td>\n",
       "      <td>dara.lagomarsino212@rover.com</td>\n",
       "      <td>Google</td>\n",
       "      <td>2017-03-02 03:53:34.338356</td>\n",
       "      <td>https://placekitten.com/284/376</td>\n",
       "      <td>0.07</td>\n",
       "      <td>f</td>\n",
       "      <td>2017-03-02</td>\n",
       "    </tr>\n",
       "    <tr>\n",
       "      <th>106</th>\n",
       "      <td>107</td>\n",
       "      <td>Denny</td>\n",
       "      <td>Prag</td>\n",
       "      <td>denny.prag739@rover.com</td>\n",
       "      <td>Google</td>\n",
       "      <td>2017-03-20 10:13:24.111015</td>\n",
       "      <td>https://placekitten.com/246/236</td>\n",
       "      <td>0.07</td>\n",
       "      <td>m</td>\n",
       "      <td>2017-03-20</td>\n",
       "    </tr>\n",
       "    <tr>\n",
       "      <th>109</th>\n",
       "      <td>110</td>\n",
       "      <td>Noelle</td>\n",
       "      <td>Wiland</td>\n",
       "      <td>noelle.wiland664@gmail.com</td>\n",
       "      <td>Google</td>\n",
       "      <td>2016-07-25 16:54:17.162838</td>\n",
       "      <td>https://placekitten.com/373/228</td>\n",
       "      <td>0.05</td>\n",
       "      <td>f</td>\n",
       "      <td>2016-07-25</td>\n",
       "    </tr>\n",
       "    <tr>\n",
       "      <th>111</th>\n",
       "      <td>112</td>\n",
       "      <td>Yolando</td>\n",
       "      <td>Rattell</td>\n",
       "      <td>yolando.rattell579@hotmail.com</td>\n",
       "      <td>Google</td>\n",
       "      <td>2017-05-20 22:38:19.369885</td>\n",
       "      <td>https://placekitten.com/260/297</td>\n",
       "      <td>0.07</td>\n",
       "      <td>f</td>\n",
       "      <td>2017-05-20</td>\n",
       "    </tr>\n",
       "    <tr>\n",
       "      <th>114</th>\n",
       "      <td>115</td>\n",
       "      <td>Martina</td>\n",
       "      <td>Dipanfilo</td>\n",
       "      <td>martina.dipanfilo709@yahoo.com</td>\n",
       "      <td>Google</td>\n",
       "      <td>2016-12-31 20:03:58.996403</td>\n",
       "      <td>https://placekitten.com/240/369</td>\n",
       "      <td>0.07</td>\n",
       "      <td>f</td>\n",
       "      <td>2016-12-31</td>\n",
       "    </tr>\n",
       "  </tbody>\n",
       "</table>\n",
       "</div>"
      ],
      "text/plain": [
       "      id first_name    last_name                           email channel  \\\n",
       "100  101       Dara  Lagomarsino   dara.lagomarsino212@rover.com  Google   \n",
       "106  107      Denny         Prag         denny.prag739@rover.com  Google   \n",
       "109  110     Noelle       Wiland      noelle.wiland664@gmail.com  Google   \n",
       "111  112    Yolando      Rattell  yolando.rattell579@hotmail.com  Google   \n",
       "114  115    Martina    Dipanfilo  martina.dipanfilo709@yahoo.com  Google   \n",
       "\n",
       "                   date_joined                            photo   fee gender  \\\n",
       "100 2017-03-02 03:53:34.338356  https://placekitten.com/284/376  0.07      f   \n",
       "106 2017-03-20 10:13:24.111015  https://placekitten.com/246/236  0.07      m   \n",
       "109 2016-07-25 16:54:17.162838  https://placekitten.com/373/228  0.05      f   \n",
       "111 2017-05-20 22:38:19.369885  https://placekitten.com/260/297  0.07      f   \n",
       "114 2016-12-31 20:03:58.996403  https://placekitten.com/240/369  0.07      f   \n",
       "\n",
       "           date  \n",
       "100  2017-03-02  \n",
       "106  2017-03-20  \n",
       "109  2016-07-25  \n",
       "111  2017-05-20  \n",
       "114  2016-12-31  "
      ]
     },
     "execution_count": 9,
     "metadata": {},
     "output_type": "execute_result"
    }
   ],
   "source": [
    "target_google = people_person[people_person['channel'] == \"Google\"]\n",
    "target_google.head()"
   ]
  },
  {
   "cell_type": "code",
   "execution_count": 10,
   "metadata": {},
   "outputs": [
    {
     "data": {
      "text/html": [
       "<div>\n",
       "<style>\n",
       "    .dataframe thead tr:only-child th {\n",
       "        text-align: right;\n",
       "    }\n",
       "\n",
       "    .dataframe thead th {\n",
       "        text-align: left;\n",
       "    }\n",
       "\n",
       "    .dataframe tbody tr th {\n",
       "        vertical-align: top;\n",
       "    }\n",
       "</style>\n",
       "<table border=\"1\" class=\"dataframe\">\n",
       "  <thead>\n",
       "    <tr style=\"text-align: right;\">\n",
       "      <th></th>\n",
       "      <th>id</th>\n",
       "      <th>first_name</th>\n",
       "      <th>last_name</th>\n",
       "      <th>email</th>\n",
       "      <th>channel</th>\n",
       "      <th>date_joined</th>\n",
       "      <th>photo</th>\n",
       "      <th>fee</th>\n",
       "      <th>gender</th>\n",
       "      <th>date</th>\n",
       "    </tr>\n",
       "  </thead>\n",
       "  <tbody>\n",
       "    <tr>\n",
       "      <th>29616</th>\n",
       "      <td>29617</td>\n",
       "      <td>Chris</td>\n",
       "      <td>Willetts</td>\n",
       "      <td>chris.willetts250@hotmail.com</td>\n",
       "      <td>Google</td>\n",
       "      <td>2015-07-16 15:11:49.047635</td>\n",
       "      <td>https://placekitten.com/298/283</td>\n",
       "      <td>0.02</td>\n",
       "      <td>m</td>\n",
       "      <td>2015-07-16</td>\n",
       "    </tr>\n",
       "    <tr>\n",
       "      <th>47404</th>\n",
       "      <td>47405</td>\n",
       "      <td>Arnita</td>\n",
       "      <td>Veenstra</td>\n",
       "      <td>arnita.veenstra249@aol.com</td>\n",
       "      <td>Google</td>\n",
       "      <td>2015-07-17 08:14:24.569700</td>\n",
       "      <td>https://placekitten.com/389/371</td>\n",
       "      <td>0.02</td>\n",
       "      <td>f</td>\n",
       "      <td>2015-07-17</td>\n",
       "    </tr>\n",
       "  </tbody>\n",
       "</table>\n",
       "</div>"
      ],
      "text/plain": [
       "          id first_name last_name                          email channel  \\\n",
       "29616  29617      Chris  Willetts  chris.willetts250@hotmail.com  Google   \n",
       "47404  47405     Arnita  Veenstra     arnita.veenstra249@aol.com  Google   \n",
       "\n",
       "                     date_joined                            photo   fee  \\\n",
       "29616 2015-07-16 15:11:49.047635  https://placekitten.com/298/283  0.02   \n",
       "47404 2015-07-17 08:14:24.569700  https://placekitten.com/389/371  0.02   \n",
       "\n",
       "      gender        date  \n",
       "29616      m  2015-07-16  \n",
       "47404      f  2015-07-17  "
      ]
     },
     "execution_count": 10,
     "metadata": {},
     "output_type": "execute_result"
    }
   ],
   "source": [
    "target_google = target_google.sort_values('date').copy()\n",
    "target_google.head(2)"
   ]
  },
  {
   "cell_type": "code",
   "execution_count": 11,
   "metadata": {},
   "outputs": [
    {
     "data": {
      "text/html": [
       "<div>\n",
       "<style>\n",
       "    .dataframe thead tr:only-child th {\n",
       "        text-align: right;\n",
       "    }\n",
       "\n",
       "    .dataframe thead th {\n",
       "        text-align: left;\n",
       "    }\n",
       "\n",
       "    .dataframe tbody tr th {\n",
       "        vertical-align: top;\n",
       "    }\n",
       "</style>\n",
       "<table border=\"1\" class=\"dataframe\">\n",
       "  <thead>\n",
       "    <tr style=\"text-align: right;\">\n",
       "      <th></th>\n",
       "      <th>date</th>\n",
       "      <th>channel</th>\n",
       "    </tr>\n",
       "  </thead>\n",
       "  <tbody>\n",
       "    <tr>\n",
       "      <th>0</th>\n",
       "      <td>2015-07-16</td>\n",
       "      <td>1</td>\n",
       "    </tr>\n",
       "    <tr>\n",
       "      <th>1</th>\n",
       "      <td>2015-07-17</td>\n",
       "      <td>1</td>\n",
       "    </tr>\n",
       "    <tr>\n",
       "      <th>2</th>\n",
       "      <td>2015-07-25</td>\n",
       "      <td>1</td>\n",
       "    </tr>\n",
       "    <tr>\n",
       "      <th>3</th>\n",
       "      <td>2015-07-26</td>\n",
       "      <td>1</td>\n",
       "    </tr>\n",
       "    <tr>\n",
       "      <th>4</th>\n",
       "      <td>2015-07-27</td>\n",
       "      <td>1</td>\n",
       "    </tr>\n",
       "  </tbody>\n",
       "</table>\n",
       "</div>"
      ],
      "text/plain": [
       "         date  channel\n",
       "0  2015-07-16        1\n",
       "1  2015-07-17        1\n",
       "2  2015-07-25        1\n",
       "3  2015-07-26        1\n",
       "4  2015-07-27        1"
      ]
     },
     "execution_count": 11,
     "metadata": {},
     "output_type": "execute_result"
    }
   ],
   "source": [
    "count_google = target_google.groupby(['date'], as_index=False).channel.count()\n",
    "count_google.head()"
   ]
  },
  {
   "cell_type": "code",
   "execution_count": 26,
   "metadata": {},
   "outputs": [
    {
     "data": {
      "image/png": "[encoded data removed]",
      "text/plain": [
       "<matplotlib.figure.Figure at 0x11869a550>"
      ]
     },
     "metadata": {},
     "output_type": "display_data"
    }
   ],
   "source": [
    "count_google.plot(x='date', y='channel', figsize=(20,15))\n",
    "plt.title(\"Users Sourced From Google (2015-2017)\", fontsize= 30)\n",
    "plt.axvline(dt.datetime(2017, 4, 12), color='r', label = '2017-04-12')\n",
    "plt.xlabel('Date', fontsize= 20)\n",
    "plt.ylabel('Number of Google Users Added', fontsize= 20)\n",
    "plt.legend();"
   ]
  },
  {
   "cell_type": "markdown",
   "metadata": {},
   "source": [
    "# 2. How many users were acquired via Google advertising since 2017-04-12 and what was the average cost per account?"
   ]
  },
  {
   "cell_type": "code",
   "execution_count": 30,
   "metadata": {},
   "outputs": [
    {
     "data": {
      "text/html": [
       "<div>\n",
       "<style>\n",
       "    .dataframe thead tr:only-child th {\n",
       "        text-align: right;\n",
       "    }\n",
       "\n",
       "    .dataframe thead th {\n",
       "        text-align: left;\n",
       "    }\n",
       "\n",
       "    .dataframe tbody tr th {\n",
       "        vertical-align: top;\n",
       "    }\n",
       "</style>\n",
       "<table border=\"1\" class=\"dataframe\">\n",
       "  <thead>\n",
       "    <tr style=\"text-align: right;\">\n",
       "      <th></th>\n",
       "      <th>id</th>\n",
       "      <th>first_name</th>\n",
       "      <th>last_name</th>\n",
       "      <th>email</th>\n",
       "      <th>channel</th>\n",
       "      <th>date_joined</th>\n",
       "      <th>photo</th>\n",
       "      <th>fee</th>\n",
       "      <th>gender</th>\n",
       "      <th>date</th>\n",
       "    </tr>\n",
       "  </thead>\n",
       "  <tbody>\n",
       "    <tr>\n",
       "      <th>29616</th>\n",
       "      <td>29617</td>\n",
       "      <td>Chris</td>\n",
       "      <td>Willetts</td>\n",
       "      <td>chris.willetts250@hotmail.com</td>\n",
       "      <td>Google</td>\n",
       "      <td>2015-07-16 15:11:49.047635</td>\n",
       "      <td>https://placekitten.com/298/283</td>\n",
       "      <td>0.02</td>\n",
       "      <td>m</td>\n",
       "      <td>2015-07-16</td>\n",
       "    </tr>\n",
       "    <tr>\n",
       "      <th>47404</th>\n",
       "      <td>47405</td>\n",
       "      <td>Arnita</td>\n",
       "      <td>Veenstra</td>\n",
       "      <td>arnita.veenstra249@aol.com</td>\n",
       "      <td>Google</td>\n",
       "      <td>2015-07-17 08:14:24.569700</td>\n",
       "      <td>https://placekitten.com/389/371</td>\n",
       "      <td>0.02</td>\n",
       "      <td>f</td>\n",
       "      <td>2015-07-17</td>\n",
       "    </tr>\n",
       "    <tr>\n",
       "      <th>13472</th>\n",
       "      <td>13473</td>\n",
       "      <td>Ruben</td>\n",
       "      <td>Cohick</td>\n",
       "      <td>ruben.cohick941@yahoo.com</td>\n",
       "      <td>Google</td>\n",
       "      <td>2015-07-25 15:20:39.575314</td>\n",
       "      <td>https://placekitten.com/236/359</td>\n",
       "      <td>0.02</td>\n",
       "      <td>m</td>\n",
       "      <td>2015-07-25</td>\n",
       "    </tr>\n",
       "    <tr>\n",
       "      <th>20014</th>\n",
       "      <td>20015</td>\n",
       "      <td>Deon</td>\n",
       "      <td>Mccain</td>\n",
       "      <td>deon.mccain616@aol.com</td>\n",
       "      <td>Google</td>\n",
       "      <td>2015-07-26 22:59:14.543321</td>\n",
       "      <td>https://placekitten.com/251/305</td>\n",
       "      <td>0.02</td>\n",
       "      <td>f</td>\n",
       "      <td>2015-07-26</td>\n",
       "    </tr>\n",
       "    <tr>\n",
       "      <th>45623</th>\n",
       "      <td>45624</td>\n",
       "      <td>Eli</td>\n",
       "      <td>Lewin</td>\n",
       "      <td>eli.lewin448@yahoo.com</td>\n",
       "      <td>Google</td>\n",
       "      <td>2015-07-27 01:09:42.950760</td>\n",
       "      <td>https://placekitten.com/385/296</td>\n",
       "      <td>0.02</td>\n",
       "      <td>m</td>\n",
       "      <td>2015-07-27</td>\n",
       "    </tr>\n",
       "  </tbody>\n",
       "</table>\n",
       "</div>"
      ],
      "text/plain": [
       "          id first_name last_name                          email channel  \\\n",
       "29616  29617      Chris  Willetts  chris.willetts250@hotmail.com  Google   \n",
       "47404  47405     Arnita  Veenstra     arnita.veenstra249@aol.com  Google   \n",
       "13472  13473      Ruben    Cohick      ruben.cohick941@yahoo.com  Google   \n",
       "20014  20015       Deon    Mccain         deon.mccain616@aol.com  Google   \n",
       "45623  45624        Eli     Lewin         eli.lewin448@yahoo.com  Google   \n",
       "\n",
       "                     date_joined                            photo   fee  \\\n",
       "29616 2015-07-16 15:11:49.047635  https://placekitten.com/298/283  0.02   \n",
       "47404 2015-07-17 08:14:24.569700  https://placekitten.com/389/371  0.02   \n",
       "13472 2015-07-25 15:20:39.575314  https://placekitten.com/236/359  0.02   \n",
       "20014 2015-07-26 22:59:14.543321  https://placekitten.com/251/305  0.02   \n",
       "45623 2015-07-27 01:09:42.950760  https://placekitten.com/385/296  0.02   \n",
       "\n",
       "      gender        date  \n",
       "29616      m  2015-07-16  \n",
       "47404      f  2015-07-17  \n",
       "13472      m  2015-07-25  \n",
       "20014      f  2015-07-26  \n",
       "45623      m  2015-07-27  "
      ]
     },
     "execution_count": 30,
     "metadata": {},
     "output_type": "execute_result"
    }
   ],
   "source": [
    "target_google.head()"
   ]
  },
  {
   "cell_type": "code",
   "execution_count": 31,
   "metadata": {},
   "outputs": [],
   "source": [
    "target_google['date'] = target_google['date'].astype('str')"
   ]
  },
  {
   "cell_type": "code",
   "execution_count": 32,
   "metadata": {
    "collapsed": true
   },
   "outputs": [],
   "source": [
    "window = target_google['date'] >= '2017-04-12'"
   ]
  },
  {
   "cell_type": "code",
   "execution_count": 36,
   "metadata": {
    "scrolled": true
   },
   "outputs": [
    {
     "data": {
      "text/html": [
       "<div>\n",
       "<style>\n",
       "    .dataframe thead tr:only-child th {\n",
       "        text-align: right;\n",
       "    }\n",
       "\n",
       "    .dataframe thead th {\n",
       "        text-align: left;\n",
       "    }\n",
       "\n",
       "    .dataframe tbody tr th {\n",
       "        vertical-align: top;\n",
       "    }\n",
       "</style>\n",
       "<table border=\"1\" class=\"dataframe\">\n",
       "  <thead>\n",
       "    <tr style=\"text-align: right;\">\n",
       "      <th></th>\n",
       "      <th>id</th>\n",
       "      <th>first_name</th>\n",
       "      <th>last_name</th>\n",
       "      <th>email</th>\n",
       "      <th>channel</th>\n",
       "      <th>date_joined</th>\n",
       "      <th>photo</th>\n",
       "      <th>fee</th>\n",
       "      <th>gender</th>\n",
       "      <th>date</th>\n",
       "    </tr>\n",
       "  </thead>\n",
       "  <tbody>\n",
       "    <tr>\n",
       "      <th>39379</th>\n",
       "      <td>39380</td>\n",
       "      <td>Peter</td>\n",
       "      <td>Zarn</td>\n",
       "      <td>peter.zarn319@hotmail.com</td>\n",
       "      <td>Google</td>\n",
       "      <td>2017-04-12 22:25:53.616845</td>\n",
       "      <td>https://placekitten.com/224/222</td>\n",
       "      <td>0.07</td>\n",
       "      <td>m</td>\n",
       "      <td>2017-04-12</td>\n",
       "    </tr>\n",
       "    <tr>\n",
       "      <th>25002</th>\n",
       "      <td>25003</td>\n",
       "      <td>Gabriele</td>\n",
       "      <td>Cichon</td>\n",
       "      <td>gabriele.cichon562@yahoo.com</td>\n",
       "      <td>Google</td>\n",
       "      <td>2017-04-12 11:08:37.037675</td>\n",
       "      <td>https://placekitten.com/377/292</td>\n",
       "      <td>0.07</td>\n",
       "      <td>f</td>\n",
       "      <td>2017-04-12</td>\n",
       "    </tr>\n",
       "    <tr>\n",
       "      <th>46377</th>\n",
       "      <td>46378</td>\n",
       "      <td>Senaida</td>\n",
       "      <td>Tobery</td>\n",
       "      <td>senaida.tobery469@rover.com</td>\n",
       "      <td>Google</td>\n",
       "      <td>2017-04-12 02:30:13.359097</td>\n",
       "      <td>https://placekitten.com/265/361</td>\n",
       "      <td>0.07</td>\n",
       "      <td>f</td>\n",
       "      <td>2017-04-12</td>\n",
       "    </tr>\n",
       "    <tr>\n",
       "      <th>14311</th>\n",
       "      <td>14312</td>\n",
       "      <td>Dale</td>\n",
       "      <td>Bartoszek</td>\n",
       "      <td>dale.bartoszek508@yahoo.com</td>\n",
       "      <td>Google</td>\n",
       "      <td>2017-04-12 04:58:04.939801</td>\n",
       "      <td>https://placekitten.com/240/359</td>\n",
       "      <td>0.07</td>\n",
       "      <td>f</td>\n",
       "      <td>2017-04-12</td>\n",
       "    </tr>\n",
       "    <tr>\n",
       "      <th>15721</th>\n",
       "      <td>15722</td>\n",
       "      <td>Echo</td>\n",
       "      <td>Purl</td>\n",
       "      <td>echo.purl652@aol.com</td>\n",
       "      <td>Google</td>\n",
       "      <td>2017-04-12 19:07:16.838284</td>\n",
       "      <td>https://placekitten.com/230/204</td>\n",
       "      <td>0.07</td>\n",
       "      <td>f</td>\n",
       "      <td>2017-04-12</td>\n",
       "    </tr>\n",
       "  </tbody>\n",
       "</table>\n",
       "</div>"
      ],
      "text/plain": [
       "          id first_name  last_name                         email channel  \\\n",
       "39379  39380      Peter       Zarn     peter.zarn319@hotmail.com  Google   \n",
       "25002  25003   Gabriele     Cichon  gabriele.cichon562@yahoo.com  Google   \n",
       "46377  46378    Senaida     Tobery   senaida.tobery469@rover.com  Google   \n",
       "14311  14312       Dale  Bartoszek   dale.bartoszek508@yahoo.com  Google   \n",
       "15721  15722       Echo       Purl          echo.purl652@aol.com  Google   \n",
       "\n",
       "                     date_joined                            photo   fee  \\\n",
       "39379 2017-04-12 22:25:53.616845  https://placekitten.com/224/222  0.07   \n",
       "25002 2017-04-12 11:08:37.037675  https://placekitten.com/377/292  0.07   \n",
       "46377 2017-04-12 02:30:13.359097  https://placekitten.com/265/361  0.07   \n",
       "14311 2017-04-12 04:58:04.939801  https://placekitten.com/240/359  0.07   \n",
       "15721 2017-04-12 19:07:16.838284  https://placekitten.com/230/204  0.07   \n",
       "\n",
       "      gender        date  \n",
       "39379      m  2017-04-12  \n",
       "25002      f  2017-04-12  \n",
       "46377      f  2017-04-12  \n",
       "14311      f  2017-04-12  \n",
       "15721      f  2017-04-12  "
      ]
     },
     "execution_count": 36,
     "metadata": {},
     "output_type": "execute_result"
    }
   ],
   "source": [
    "google_after_april = target_google[window]\n",
    "google_after_april.head()"
   ]
  },
  {
   "cell_type": "code",
   "execution_count": 44,
   "metadata": {},
   "outputs": [
    {
     "data": {
      "text/html": [
       "<div>\n",
       "<style>\n",
       "    .dataframe thead tr:only-child th {\n",
       "        text-align: right;\n",
       "    }\n",
       "\n",
       "    .dataframe thead th {\n",
       "        text-align: left;\n",
       "    }\n",
       "\n",
       "    .dataframe tbody tr th {\n",
       "        vertical-align: top;\n",
       "    }\n",
       "</style>\n",
       "<table border=\"1\" class=\"dataframe\">\n",
       "  <thead>\n",
       "    <tr style=\"text-align: right;\">\n",
       "      <th></th>\n",
       "      <th>id</th>\n",
       "      <th>first_name</th>\n",
       "      <th>last_name</th>\n",
       "      <th>email</th>\n",
       "      <th>channel</th>\n",
       "      <th>date_joined</th>\n",
       "      <th>photo</th>\n",
       "      <th>fee</th>\n",
       "      <th>gender</th>\n",
       "      <th>date</th>\n",
       "    </tr>\n",
       "  </thead>\n",
       "  <tbody>\n",
       "    <tr>\n",
       "      <th>11851</th>\n",
       "      <td>11852</td>\n",
       "      <td>Cleotilde</td>\n",
       "      <td>Odonal</td>\n",
       "      <td>cleotilde.odonal647@hotmail.com</td>\n",
       "      <td>Google</td>\n",
       "      <td>2017-07-10 21:50:44.756546</td>\n",
       "      <td>https://placekitten.com/307/240</td>\n",
       "      <td>0.07</td>\n",
       "      <td>f</td>\n",
       "      <td>2017-07-10</td>\n",
       "    </tr>\n",
       "    <tr>\n",
       "      <th>63829</th>\n",
       "      <td>63830</td>\n",
       "      <td>Wilford</td>\n",
       "      <td>Mclaurine</td>\n",
       "      <td>wilford.mclaurine864@yahoo.com</td>\n",
       "      <td>Google</td>\n",
       "      <td>2017-07-10 19:10:55.184093</td>\n",
       "      <td>https://placekitten.com/325/285</td>\n",
       "      <td>0.07</td>\n",
       "      <td>m</td>\n",
       "      <td>2017-07-10</td>\n",
       "    </tr>\n",
       "    <tr>\n",
       "      <th>15637</th>\n",
       "      <td>15638</td>\n",
       "      <td>Anastacia</td>\n",
       "      <td>Madyun</td>\n",
       "      <td>anastacia.madyun219@gmail.com</td>\n",
       "      <td>Google</td>\n",
       "      <td>2017-07-10 01:28:46.108539</td>\n",
       "      <td>https://placekitten.com/329/363</td>\n",
       "      <td>0.07</td>\n",
       "      <td>f</td>\n",
       "      <td>2017-07-10</td>\n",
       "    </tr>\n",
       "    <tr>\n",
       "      <th>7459</th>\n",
       "      <td>7460</td>\n",
       "      <td>Dawna</td>\n",
       "      <td>Naegle</td>\n",
       "      <td>dawna.naegle699@aol.com</td>\n",
       "      <td>Google</td>\n",
       "      <td>2017-07-10 15:53:08.516025</td>\n",
       "      <td>https://placekitten.com/211/245</td>\n",
       "      <td>0.07</td>\n",
       "      <td>f</td>\n",
       "      <td>2017-07-10</td>\n",
       "    </tr>\n",
       "    <tr>\n",
       "      <th>63244</th>\n",
       "      <td>63245</td>\n",
       "      <td>Eve</td>\n",
       "      <td>Helander</td>\n",
       "      <td>eve.helander608@gmail.com</td>\n",
       "      <td>Google</td>\n",
       "      <td>2017-07-10 04:42:20.759840</td>\n",
       "      <td>https://placekitten.com/377/283</td>\n",
       "      <td>0.07</td>\n",
       "      <td>f</td>\n",
       "      <td>2017-07-10</td>\n",
       "    </tr>\n",
       "  </tbody>\n",
       "</table>\n",
       "</div>"
      ],
      "text/plain": [
       "          id first_name  last_name                            email channel  \\\n",
       "11851  11852  Cleotilde     Odonal  cleotilde.odonal647@hotmail.com  Google   \n",
       "63829  63830    Wilford  Mclaurine   wilford.mclaurine864@yahoo.com  Google   \n",
       "15637  15638  Anastacia     Madyun    anastacia.madyun219@gmail.com  Google   \n",
       "7459    7460      Dawna     Naegle          dawna.naegle699@aol.com  Google   \n",
       "63244  63245        Eve   Helander        eve.helander608@gmail.com  Google   \n",
       "\n",
       "                     date_joined                            photo   fee  \\\n",
       "11851 2017-07-10 21:50:44.756546  https://placekitten.com/307/240  0.07   \n",
       "63829 2017-07-10 19:10:55.184093  https://placekitten.com/325/285  0.07   \n",
       "15637 2017-07-10 01:28:46.108539  https://placekitten.com/329/363  0.07   \n",
       "7459  2017-07-10 15:53:08.516025  https://placekitten.com/211/245  0.07   \n",
       "63244 2017-07-10 04:42:20.759840  https://placekitten.com/377/283  0.07   \n",
       "\n",
       "      gender        date  \n",
       "11851      f  2017-07-10  \n",
       "63829      m  2017-07-10  \n",
       "15637      f  2017-07-10  \n",
       "7459       f  2017-07-10  \n",
       "63244      f  2017-07-10  "
      ]
     },
     "execution_count": 44,
     "metadata": {},
     "output_type": "execute_result"
    }
   ],
   "source": [
    "google_after_april.tail()"
   ]
  },
  {
   "cell_type": "code",
   "execution_count": 43,
   "metadata": {},
   "outputs": [
    {
     "data": {
      "text/plain": [
       "4673"
      ]
     },
     "execution_count": 43,
     "metadata": {},
     "output_type": "execute_result"
    }
   ],
   "source": [
    "count_google_after_april = len(google_after_april)\n",
    "count_google_after_april"
   ]
  },
  {
   "cell_type": "code",
   "execution_count": 45,
   "metadata": {},
   "outputs": [
    {
     "data": {
      "text/plain": [
       "45.0"
      ]
     },
     "execution_count": 45,
     "metadata": {},
     "output_type": "execute_result"
    }
   ],
   "source": [
    "average_cost = 210285 / count_google_after_april\n",
    "average_cost"
   ]
  },
  {
   "cell_type": "markdown",
   "metadata": {},
   "source": [
    "## Summary:\n",
    "\n",
    "After the April 12th focal date the company added 4,673 new users through Google search engine marketing.\n",
    "\n",
    "The average cost per user acquired is $45."
   ]
  },
  {
   "cell_type": "markdown",
   "metadata": {},
   "source": [
    "# 3. Estimate how many users would have been acquired had the company not changed its bidding strategy. What would have been the marketing spend in that case?"
   ]
  },
  {
   "cell_type": "code",
   "execution_count": 46,
   "metadata": {},
   "outputs": [
    {
     "data": {
      "text/html": [
       "<div>\n",
       "<style>\n",
       "    .dataframe thead tr:only-child th {\n",
       "        text-align: right;\n",
       "    }\n",
       "\n",
       "    .dataframe thead th {\n",
       "        text-align: left;\n",
       "    }\n",
       "\n",
       "    .dataframe tbody tr th {\n",
       "        vertical-align: top;\n",
       "    }\n",
       "</style>\n",
       "<table border=\"1\" class=\"dataframe\">\n",
       "  <thead>\n",
       "    <tr style=\"text-align: right;\">\n",
       "      <th></th>\n",
       "      <th>id</th>\n",
       "      <th>first_name</th>\n",
       "      <th>last_name</th>\n",
       "      <th>email</th>\n",
       "      <th>channel</th>\n",
       "      <th>date_joined</th>\n",
       "      <th>photo</th>\n",
       "      <th>fee</th>\n",
       "      <th>gender</th>\n",
       "      <th>date</th>\n",
       "    </tr>\n",
       "  </thead>\n",
       "  <tbody>\n",
       "    <tr>\n",
       "      <th>0</th>\n",
       "      <td>1</td>\n",
       "      <td>Meaghan</td>\n",
       "      <td>Lapete</td>\n",
       "      <td>meaghan.lapete820@aol.com</td>\n",
       "      <td>NaN</td>\n",
       "      <td>2015-07-12 15:13:16.673652</td>\n",
       "      <td>https://placekitten.com/360/208</td>\n",
       "      <td>0.0</td>\n",
       "      <td>f</td>\n",
       "      <td>2015-07-12</td>\n",
       "    </tr>\n",
       "    <tr>\n",
       "      <th>1</th>\n",
       "      <td>2</td>\n",
       "      <td>Aracelis</td>\n",
       "      <td>Luhr</td>\n",
       "      <td>aracelis.luhr844@rover.com</td>\n",
       "      <td>NaN</td>\n",
       "      <td>2015-07-12 13:44:21.949482</td>\n",
       "      <td>https://placekitten.com/392/227</td>\n",
       "      <td>0.0</td>\n",
       "      <td>f</td>\n",
       "      <td>2015-07-12</td>\n",
       "    </tr>\n",
       "    <tr>\n",
       "      <th>2</th>\n",
       "      <td>3</td>\n",
       "      <td>Vernita</td>\n",
       "      <td>Amodei</td>\n",
       "      <td>vernita.amodei542@rover.com</td>\n",
       "      <td>NaN</td>\n",
       "      <td>2015-07-12 11:36:06.992714</td>\n",
       "      <td>https://placekitten.com/275/300</td>\n",
       "      <td>0.0</td>\n",
       "      <td>f</td>\n",
       "      <td>2015-07-12</td>\n",
       "    </tr>\n",
       "    <tr>\n",
       "      <th>3</th>\n",
       "      <td>4</td>\n",
       "      <td>Marlin</td>\n",
       "      <td>Flamm</td>\n",
       "      <td>marlin.flamm613@yahoo.com</td>\n",
       "      <td>NaN</td>\n",
       "      <td>2015-07-12 12:23:43.627071</td>\n",
       "      <td>https://placekitten.com/254/257</td>\n",
       "      <td>0.0</td>\n",
       "      <td>f</td>\n",
       "      <td>2015-07-12</td>\n",
       "    </tr>\n",
       "    <tr>\n",
       "      <th>4</th>\n",
       "      <td>5</td>\n",
       "      <td>Eugena</td>\n",
       "      <td>Rigger</td>\n",
       "      <td>eugena.rigger847@yahoo.com</td>\n",
       "      <td>NaN</td>\n",
       "      <td>2015-07-12 07:40:36.724086</td>\n",
       "      <td>https://placekitten.com/222/370</td>\n",
       "      <td>0.0</td>\n",
       "      <td>f</td>\n",
       "      <td>2015-07-12</td>\n",
       "    </tr>\n",
       "  </tbody>\n",
       "</table>\n",
       "</div>"
      ],
      "text/plain": [
       "   id first_name last_name                        email channel  \\\n",
       "0   1    Meaghan    Lapete    meaghan.lapete820@aol.com     NaN   \n",
       "1   2   Aracelis      Luhr   aracelis.luhr844@rover.com     NaN   \n",
       "2   3    Vernita    Amodei  vernita.amodei542@rover.com     NaN   \n",
       "3   4     Marlin     Flamm    marlin.flamm613@yahoo.com     NaN   \n",
       "4   5     Eugena    Rigger   eugena.rigger847@yahoo.com     NaN   \n",
       "\n",
       "                 date_joined                            photo  fee gender  \\\n",
       "0 2015-07-12 15:13:16.673652  https://placekitten.com/360/208  0.0      f   \n",
       "1 2015-07-12 13:44:21.949482  https://placekitten.com/392/227  0.0      f   \n",
       "2 2015-07-12 11:36:06.992714  https://placekitten.com/275/300  0.0      f   \n",
       "3 2015-07-12 12:23:43.627071  https://placekitten.com/254/257  0.0      f   \n",
       "4 2015-07-12 07:40:36.724086  https://placekitten.com/222/370  0.0      f   \n",
       "\n",
       "         date  \n",
       "0  2015-07-12  \n",
       "1  2015-07-12  \n",
       "2  2015-07-12  \n",
       "3  2015-07-12  \n",
       "4  2015-07-12  "
      ]
     },
     "execution_count": 46,
     "metadata": {},
     "output_type": "execute_result"
    }
   ],
   "source": [
    "people_person.head()"
   ]
  },
  {
   "cell_type": "code",
   "execution_count": 47,
   "metadata": {
    "collapsed": true
   },
   "outputs": [],
   "source": [
    "people_person['date'] = people_person['date'].astype('str')"
   ]
  },
  {
   "cell_type": "code",
   "execution_count": 54,
   "metadata": {},
   "outputs": [],
   "source": [
    "pre_strategy = people_person.date < '2017-04-12'"
   ]
  },
  {
   "cell_type": "code",
   "execution_count": 55,
   "metadata": {},
   "outputs": [
    {
     "data": {
      "text/html": [
       "<div>\n",
       "<style>\n",
       "    .dataframe thead tr:only-child th {\n",
       "        text-align: right;\n",
       "    }\n",
       "\n",
       "    .dataframe thead th {\n",
       "        text-align: left;\n",
       "    }\n",
       "\n",
       "    .dataframe tbody tr th {\n",
       "        vertical-align: top;\n",
       "    }\n",
       "</style>\n",
       "<table border=\"1\" class=\"dataframe\">\n",
       "  <thead>\n",
       "    <tr style=\"text-align: right;\">\n",
       "      <th></th>\n",
       "      <th>id</th>\n",
       "      <th>first_name</th>\n",
       "      <th>last_name</th>\n",
       "      <th>email</th>\n",
       "      <th>channel</th>\n",
       "      <th>date_joined</th>\n",
       "      <th>photo</th>\n",
       "      <th>fee</th>\n",
       "      <th>gender</th>\n",
       "      <th>date</th>\n",
       "    </tr>\n",
       "  </thead>\n",
       "  <tbody>\n",
       "    <tr>\n",
       "      <th>0</th>\n",
       "      <td>1</td>\n",
       "      <td>Meaghan</td>\n",
       "      <td>Lapete</td>\n",
       "      <td>meaghan.lapete820@aol.com</td>\n",
       "      <td>NaN</td>\n",
       "      <td>2015-07-12 15:13:16.673652</td>\n",
       "      <td>https://placekitten.com/360/208</td>\n",
       "      <td>0.0</td>\n",
       "      <td>f</td>\n",
       "      <td>2015-07-12</td>\n",
       "    </tr>\n",
       "    <tr>\n",
       "      <th>1</th>\n",
       "      <td>2</td>\n",
       "      <td>Aracelis</td>\n",
       "      <td>Luhr</td>\n",
       "      <td>aracelis.luhr844@rover.com</td>\n",
       "      <td>NaN</td>\n",
       "      <td>2015-07-12 13:44:21.949482</td>\n",
       "      <td>https://placekitten.com/392/227</td>\n",
       "      <td>0.0</td>\n",
       "      <td>f</td>\n",
       "      <td>2015-07-12</td>\n",
       "    </tr>\n",
       "    <tr>\n",
       "      <th>2</th>\n",
       "      <td>3</td>\n",
       "      <td>Vernita</td>\n",
       "      <td>Amodei</td>\n",
       "      <td>vernita.amodei542@rover.com</td>\n",
       "      <td>NaN</td>\n",
       "      <td>2015-07-12 11:36:06.992714</td>\n",
       "      <td>https://placekitten.com/275/300</td>\n",
       "      <td>0.0</td>\n",
       "      <td>f</td>\n",
       "      <td>2015-07-12</td>\n",
       "    </tr>\n",
       "    <tr>\n",
       "      <th>3</th>\n",
       "      <td>4</td>\n",
       "      <td>Marlin</td>\n",
       "      <td>Flamm</td>\n",
       "      <td>marlin.flamm613@yahoo.com</td>\n",
       "      <td>NaN</td>\n",
       "      <td>2015-07-12 12:23:43.627071</td>\n",
       "      <td>https://placekitten.com/254/257</td>\n",
       "      <td>0.0</td>\n",
       "      <td>f</td>\n",
       "      <td>2015-07-12</td>\n",
       "    </tr>\n",
       "    <tr>\n",
       "      <th>4</th>\n",
       "      <td>5</td>\n",
       "      <td>Eugena</td>\n",
       "      <td>Rigger</td>\n",
       "      <td>eugena.rigger847@yahoo.com</td>\n",
       "      <td>NaN</td>\n",
       "      <td>2015-07-12 07:40:36.724086</td>\n",
       "      <td>https://placekitten.com/222/370</td>\n",
       "      <td>0.0</td>\n",
       "      <td>f</td>\n",
       "      <td>2015-07-12</td>\n",
       "    </tr>\n",
       "  </tbody>\n",
       "</table>\n",
       "</div>"
      ],
      "text/plain": [
       "   id first_name last_name                        email channel  \\\n",
       "0   1    Meaghan    Lapete    meaghan.lapete820@aol.com     NaN   \n",
       "1   2   Aracelis      Luhr   aracelis.luhr844@rover.com     NaN   \n",
       "2   3    Vernita    Amodei  vernita.amodei542@rover.com     NaN   \n",
       "3   4     Marlin     Flamm    marlin.flamm613@yahoo.com     NaN   \n",
       "4   5     Eugena    Rigger   eugena.rigger847@yahoo.com     NaN   \n",
       "\n",
       "                 date_joined                            photo  fee gender  \\\n",
       "0 2015-07-12 15:13:16.673652  https://placekitten.com/360/208  0.0      f   \n",
       "1 2015-07-12 13:44:21.949482  https://placekitten.com/392/227  0.0      f   \n",
       "2 2015-07-12 11:36:06.992714  https://placekitten.com/275/300  0.0      f   \n",
       "3 2015-07-12 12:23:43.627071  https://placekitten.com/254/257  0.0      f   \n",
       "4 2015-07-12 07:40:36.724086  https://placekitten.com/222/370  0.0      f   \n",
       "\n",
       "         date  \n",
       "0  2015-07-12  \n",
       "1  2015-07-12  \n",
       "2  2015-07-12  \n",
       "3  2015-07-12  \n",
       "4  2015-07-12  "
      ]
     },
     "execution_count": 55,
     "metadata": {},
     "output_type": "execute_result"
    }
   ],
   "source": [
    "pre_strategy_users = people_person[pre_strategy]\n",
    "pre_strategy_users.head()"
   ]
  },
  {
   "cell_type": "code",
   "execution_count": 56,
   "metadata": {
    "collapsed": true
   },
   "outputs": [],
   "source": [
    "pre_strategy_google = pre_strategy_users[pre_strategy_users['channel'] == \"Google\"].sort_values(by='date')"
   ]
  },
  {
   "cell_type": "code",
   "execution_count": 57,
   "metadata": {},
   "outputs": [
    {
     "data": {
      "text/html": [
       "<div>\n",
       "<style>\n",
       "    .dataframe thead tr:only-child th {\n",
       "        text-align: right;\n",
       "    }\n",
       "\n",
       "    .dataframe thead th {\n",
       "        text-align: left;\n",
       "    }\n",
       "\n",
       "    .dataframe tbody tr th {\n",
       "        vertical-align: top;\n",
       "    }\n",
       "</style>\n",
       "<table border=\"1\" class=\"dataframe\">\n",
       "  <thead>\n",
       "    <tr style=\"text-align: right;\">\n",
       "      <th></th>\n",
       "      <th>id</th>\n",
       "      <th>first_name</th>\n",
       "      <th>last_name</th>\n",
       "      <th>email</th>\n",
       "      <th>channel</th>\n",
       "      <th>date_joined</th>\n",
       "      <th>photo</th>\n",
       "      <th>fee</th>\n",
       "      <th>gender</th>\n",
       "      <th>date</th>\n",
       "    </tr>\n",
       "  </thead>\n",
       "  <tbody>\n",
       "    <tr>\n",
       "      <th>29616</th>\n",
       "      <td>29617</td>\n",
       "      <td>Chris</td>\n",
       "      <td>Willetts</td>\n",
       "      <td>chris.willetts250@hotmail.com</td>\n",
       "      <td>Google</td>\n",
       "      <td>2015-07-16 15:11:49.047635</td>\n",
       "      <td>https://placekitten.com/298/283</td>\n",
       "      <td>0.02</td>\n",
       "      <td>m</td>\n",
       "      <td>2015-07-16</td>\n",
       "    </tr>\n",
       "    <tr>\n",
       "      <th>47404</th>\n",
       "      <td>47405</td>\n",
       "      <td>Arnita</td>\n",
       "      <td>Veenstra</td>\n",
       "      <td>arnita.veenstra249@aol.com</td>\n",
       "      <td>Google</td>\n",
       "      <td>2015-07-17 08:14:24.569700</td>\n",
       "      <td>https://placekitten.com/389/371</td>\n",
       "      <td>0.02</td>\n",
       "      <td>f</td>\n",
       "      <td>2015-07-17</td>\n",
       "    </tr>\n",
       "    <tr>\n",
       "      <th>13472</th>\n",
       "      <td>13473</td>\n",
       "      <td>Ruben</td>\n",
       "      <td>Cohick</td>\n",
       "      <td>ruben.cohick941@yahoo.com</td>\n",
       "      <td>Google</td>\n",
       "      <td>2015-07-25 15:20:39.575314</td>\n",
       "      <td>https://placekitten.com/236/359</td>\n",
       "      <td>0.02</td>\n",
       "      <td>m</td>\n",
       "      <td>2015-07-25</td>\n",
       "    </tr>\n",
       "    <tr>\n",
       "      <th>20014</th>\n",
       "      <td>20015</td>\n",
       "      <td>Deon</td>\n",
       "      <td>Mccain</td>\n",
       "      <td>deon.mccain616@aol.com</td>\n",
       "      <td>Google</td>\n",
       "      <td>2015-07-26 22:59:14.543321</td>\n",
       "      <td>https://placekitten.com/251/305</td>\n",
       "      <td>0.02</td>\n",
       "      <td>f</td>\n",
       "      <td>2015-07-26</td>\n",
       "    </tr>\n",
       "    <tr>\n",
       "      <th>45623</th>\n",
       "      <td>45624</td>\n",
       "      <td>Eli</td>\n",
       "      <td>Lewin</td>\n",
       "      <td>eli.lewin448@yahoo.com</td>\n",
       "      <td>Google</td>\n",
       "      <td>2015-07-27 01:09:42.950760</td>\n",
       "      <td>https://placekitten.com/385/296</td>\n",
       "      <td>0.02</td>\n",
       "      <td>m</td>\n",
       "      <td>2015-07-27</td>\n",
       "    </tr>\n",
       "  </tbody>\n",
       "</table>\n",
       "</div>"
      ],
      "text/plain": [
       "          id first_name last_name                          email channel  \\\n",
       "29616  29617      Chris  Willetts  chris.willetts250@hotmail.com  Google   \n",
       "47404  47405     Arnita  Veenstra     arnita.veenstra249@aol.com  Google   \n",
       "13472  13473      Ruben    Cohick      ruben.cohick941@yahoo.com  Google   \n",
       "20014  20015       Deon    Mccain         deon.mccain616@aol.com  Google   \n",
       "45623  45624        Eli     Lewin         eli.lewin448@yahoo.com  Google   \n",
       "\n",
       "                     date_joined                            photo   fee  \\\n",
       "29616 2015-07-16 15:11:49.047635  https://placekitten.com/298/283  0.02   \n",
       "47404 2015-07-17 08:14:24.569700  https://placekitten.com/389/371  0.02   \n",
       "13472 2015-07-25 15:20:39.575314  https://placekitten.com/236/359  0.02   \n",
       "20014 2015-07-26 22:59:14.543321  https://placekitten.com/251/305  0.02   \n",
       "45623 2015-07-27 01:09:42.950760  https://placekitten.com/385/296  0.02   \n",
       "\n",
       "      gender        date  \n",
       "29616      m  2015-07-16  \n",
       "47404      f  2015-07-17  \n",
       "13472      m  2015-07-25  \n",
       "20014      f  2015-07-26  \n",
       "45623      m  2015-07-27  "
      ]
     },
     "execution_count": 57,
     "metadata": {},
     "output_type": "execute_result"
    }
   ],
   "source": [
    "pre_strategy_google.head()"
   ]
  },
  {
   "cell_type": "code",
   "execution_count": 60,
   "metadata": {},
   "outputs": [
    {
     "data": {
      "text/plain": [
       "9644"
      ]
     },
     "execution_count": 60,
     "metadata": {},
     "output_type": "execute_result"
    }
   ],
   "source": [
    "count_pre_strategy_google = len(pre_strategy_google)\n",
    "count_pre_strategy_google"
   ]
  },
  {
   "cell_type": "markdown",
   "metadata": {},
   "source": [
    "9644 is the amount of new users that came from Google before the 2017-04-12 shift in strategy."
   ]
  },
  {
   "cell_type": "code",
   "execution_count": 61,
   "metadata": {},
   "outputs": [
    {
     "data": {
      "text/html": [
       "<div>\n",
       "<style>\n",
       "    .dataframe thead tr:only-child th {\n",
       "        text-align: right;\n",
       "    }\n",
       "\n",
       "    .dataframe thead th {\n",
       "        text-align: left;\n",
       "    }\n",
       "\n",
       "    .dataframe tbody tr th {\n",
       "        vertical-align: top;\n",
       "    }\n",
       "</style>\n",
       "<table border=\"1\" class=\"dataframe\">\n",
       "  <thead>\n",
       "    <tr style=\"text-align: right;\">\n",
       "      <th></th>\n",
       "      <th>id</th>\n",
       "      <th>first_name</th>\n",
       "      <th>last_name</th>\n",
       "      <th>email</th>\n",
       "      <th>channel</th>\n",
       "      <th>date_joined</th>\n",
       "      <th>photo</th>\n",
       "      <th>fee</th>\n",
       "      <th>gender</th>\n",
       "      <th>date</th>\n",
       "    </tr>\n",
       "  </thead>\n",
       "  <tbody>\n",
       "    <tr>\n",
       "      <th>29616</th>\n",
       "      <td>29617</td>\n",
       "      <td>Chris</td>\n",
       "      <td>Willetts</td>\n",
       "      <td>chris.willetts250@hotmail.com</td>\n",
       "      <td>Google</td>\n",
       "      <td>2015-07-16 15:11:49.047635</td>\n",
       "      <td>https://placekitten.com/298/283</td>\n",
       "      <td>0.02</td>\n",
       "      <td>m</td>\n",
       "      <td>2015-07-16</td>\n",
       "    </tr>\n",
       "  </tbody>\n",
       "</table>\n",
       "</div>"
      ],
      "text/plain": [
       "          id first_name last_name                          email channel  \\\n",
       "29616  29617      Chris  Willetts  chris.willetts250@hotmail.com  Google   \n",
       "\n",
       "                     date_joined                            photo   fee  \\\n",
       "29616 2015-07-16 15:11:49.047635  https://placekitten.com/298/283  0.02   \n",
       "\n",
       "      gender        date  \n",
       "29616      m  2015-07-16  "
      ]
     },
     "execution_count": 61,
     "metadata": {},
     "output_type": "execute_result"
    }
   ],
   "source": [
    "pre_strategy_google.head(1)"
   ]
  },
  {
   "cell_type": "code",
   "execution_count": 62,
   "metadata": {},
   "outputs": [
    {
     "data": {
      "text/html": [
       "<div>\n",
       "<style>\n",
       "    .dataframe thead tr:only-child th {\n",
       "        text-align: right;\n",
       "    }\n",
       "\n",
       "    .dataframe thead th {\n",
       "        text-align: left;\n",
       "    }\n",
       "\n",
       "    .dataframe tbody tr th {\n",
       "        vertical-align: top;\n",
       "    }\n",
       "</style>\n",
       "<table border=\"1\" class=\"dataframe\">\n",
       "  <thead>\n",
       "    <tr style=\"text-align: right;\">\n",
       "      <th></th>\n",
       "      <th>id</th>\n",
       "      <th>first_name</th>\n",
       "      <th>last_name</th>\n",
       "      <th>email</th>\n",
       "      <th>channel</th>\n",
       "      <th>date_joined</th>\n",
       "      <th>photo</th>\n",
       "      <th>fee</th>\n",
       "      <th>gender</th>\n",
       "      <th>date</th>\n",
       "    </tr>\n",
       "  </thead>\n",
       "  <tbody>\n",
       "    <tr>\n",
       "      <th>58031</th>\n",
       "      <td>58032</td>\n",
       "      <td>Arnulfo</td>\n",
       "      <td>Essler</td>\n",
       "      <td>arnulfo.essler514@aol.com</td>\n",
       "      <td>Google</td>\n",
       "      <td>2017-04-11 23:29:13.202312</td>\n",
       "      <td>https://placekitten.com/361/333</td>\n",
       "      <td>0.07</td>\n",
       "      <td>m</td>\n",
       "      <td>2017-04-11</td>\n",
       "    </tr>\n",
       "  </tbody>\n",
       "</table>\n",
       "</div>"
      ],
      "text/plain": [
       "          id first_name last_name                      email channel  \\\n",
       "58031  58032    Arnulfo    Essler  arnulfo.essler514@aol.com  Google   \n",
       "\n",
       "                     date_joined                            photo   fee  \\\n",
       "58031 2017-04-11 23:29:13.202312  https://placekitten.com/361/333  0.07   \n",
       "\n",
       "      gender        date  \n",
       "58031      m  2017-04-11  "
      ]
     },
     "execution_count": 62,
     "metadata": {},
     "output_type": "execute_result"
    }
   ],
   "source": [
    "pre_strategy_google.tail(1)"
   ]
  },
  {
   "cell_type": "markdown",
   "metadata": {},
   "source": [
    "2015-07-16 to 2017-04-11 is the period before the shift in strategy, we need to figure out the number of days this is.\n"
   ]
  },
  {
   "cell_type": "code",
   "execution_count": 64,
   "metadata": {},
   "outputs": [
    {
     "data": {
      "text/plain": [
       "datetime.timedelta(636)"
      ]
     },
     "execution_count": 64,
     "metadata": {},
     "output_type": "execute_result"
    }
   ],
   "source": [
    "start = datetime(2015,7,16)\n",
    "end = datetime(2017,4,12)\n",
    "pre_time_period = end - start\n",
    "pre_time_period"
   ]
  },
  {
   "cell_type": "markdown",
   "metadata": {},
   "source": [
    "The number of users per day added before the shift can be calculated as the count_pre_strategy_google divided by the by number of days."
   ]
  },
  {
   "cell_type": "code",
   "execution_count": 66,
   "metadata": {},
   "outputs": [
    {
     "data": {
      "text/plain": [
       "15.163522012578616"
      ]
     },
     "execution_count": 66,
     "metadata": {},
     "output_type": "execute_result"
    }
   ],
   "source": [
    "users_per_day = 9644 / 636\n",
    "users_per_day"
   ]
  },
  {
   "cell_type": "markdown",
   "metadata": {},
   "source": [
    "Before the shift in strategy the platform was adding 15 users per day"
   ]
  },
  {
   "cell_type": "markdown",
   "metadata": {},
   "source": [
    "Marketing spend was $30 per user, we can calculate the cost by multiplying the number of users added per day under the old regime by this cost. "
   ]
  },
  {
   "cell_type": "code",
   "execution_count": 69,
   "metadata": {},
   "outputs": [
    {
     "data": {
      "text/plain": [
       "datetime.timedelta(90)"
      ]
     },
     "execution_count": 69,
     "metadata": {},
     "output_type": "execute_result"
    }
   ],
   "source": [
    "new_start = datetime(2017,4,12)\n",
    "new_end = datetime(2017,7,11)\n",
    "new_timedelta = new_end - new_start\n",
    "new_timedelta"
   ]
  },
  {
   "cell_type": "markdown",
   "metadata": {},
   "source": [
    "90 days is the time period between the current snapshot and the shift, if we multiply the average users per day by this we can figure out how many users would have been added."
   ]
  },
  {
   "cell_type": "code",
   "execution_count": 70,
   "metadata": {},
   "outputs": [
    {
     "data": {
      "text/plain": [
       "1364.7169811320755"
      ]
     },
     "execution_count": 70,
     "metadata": {},
     "output_type": "execute_result"
    }
   ],
   "source": [
    "users_per_day * 90"
   ]
  },
  {
   "cell_type": "markdown",
   "metadata": {},
   "source": [
    "Rounds up to 1365 users."
   ]
  },
  {
   "cell_type": "markdown",
   "metadata": {},
   "source": [
    "The cost of this would be 30 * 1365 = 40,950"
   ]
  },
  {
   "cell_type": "code",
   "execution_count": 71,
   "metadata": {},
   "outputs": [
    {
     "data": {
      "text/plain": [
       "40950"
      ]
     },
     "execution_count": 71,
     "metadata": {},
     "output_type": "execute_result"
    }
   ],
   "source": [
    "cost = 30 * 1365\n",
    "cost"
   ]
  },
  {
   "cell_type": "markdown",
   "metadata": {},
   "source": [
    "### Summary"
   ]
  },
  {
   "cell_type": "markdown",
   "metadata": {},
   "source": [
    "Before the change in strategy the platform was adding 15 users per day at a cost of $30/user. In the 636 day window this meant that 9644 users were added. Had the company not changed tactics on 2017-04-12 the site would have added 1365 users at a cost of 40,950"
   ]
  },
  {
   "cell_type": "markdown",
   "metadata": {},
   "source": [
    "# 4. How many additional accounts where created? What was the marginal cost per account for these additional accounts?"
   ]
  },
  {
   "cell_type": "code",
   "execution_count": null,
   "metadata": {
    "collapsed": true
   },
   "outputs": [],
   "source": []
  }
 ],
 "metadata": {
  "kernelspec": {
   "display_name": "Python 3",
   "language": "python",
   "name": "python3"
  },
  "language_info": {
   "codemirror_mode": {
    "name": "ipython",
    "version": 3
   },
   "file_extension": ".py",
   "mimetype": "text/x-python",
   "name": "python",
   "nbconvert_exporter": "python",
   "pygments_lexer": "ipython3",
   "version": "3.6.3"
  }
 },
 "nbformat": 4,
 "nbformat_minor": 2
}
